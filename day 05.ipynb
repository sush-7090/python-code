{
 "cells": [
  {
   "cell_type": "code",
   "execution_count": 3,
   "id": "1bd5edde-854a-4109-8e6d-a7e299091b5a",
   "metadata": {},
   "outputs": [
    {
     "name": "stdout",
     "output_type": "stream",
     "text": [
      "the laptop having the i5 and 1tb\n",
      "0\n"
     ]
    }
   ],
   "source": [
    "class laptop:\n",
    "    a=0\n",
    "    def config(self):\n",
    "          print(\"the laptop having the i5 and 1tb\")\n",
    "hp=laptop()\n",
    "hp.config()\n",
    "print(hp.a)"
   ]
  },
  {
   "cell_type": "markdown",
   "id": "d5a166bd-9797-477c-8d67-73f557a96f42",
   "metadata": {},
   "source": [
    "create a laptop class\n",
    "with variable as processor, Ram and storage \n",
    "\n",
    "create function to print the configuration of the laptops.\n",
    "\n",
    "create 3 object of laptop with different brand and display its configuraton "
   ]
  },
  {
   "cell_type": "code",
   "execution_count": 10,
   "id": "b6f2ce26-4041-46c3-908f-a688293bdfba",
   "metadata": {},
   "outputs": [
    {
     "name": "stdout",
     "output_type": "stream",
     "text": [
      "configuration of laptop is:\n",
      "processor i5\n",
      "Ram 8\n",
      "storage 512\n"
     ]
    }
   ],
   "source": [
    "class laptop:\n",
    "    def __init__(self,p,r,s):\n",
    "        self.processor=p\n",
    "        self.ram=r\n",
    "        self.storage=s\n",
    "    def config(self):\n",
    "          print(\"configuration of laptop is:\")\n",
    "          print(\"processor\",self.processor)\n",
    "          print(\"Ram\",self.ram)\n",
    "          print(\"storage\",self.storage)\n",
    "\n",
    "if __name__== \"__main__\":\n",
    "  hp=laptop(\"i5\",8,512)\n",
    "  hp.config()\n",
    "\n",
    "\n"
   ]
  },
  {
   "cell_type": "code",
   "execution_count": 19,
   "id": "9401d62c-2e09-45d2-ae98-87fdc9ac990f",
   "metadata": {},
   "outputs": [
    {
     "name": "stdout",
     "output_type": "stream",
     "text": [
      "the marks in each sub of student:\n",
      "english 78\n",
      "kannada 89\n",
      "mathematics 90\n",
      "science 100\n",
      "social 69\n",
      "the avg of the student: 85.2\n"
     ]
    }
   ],
   "source": [
    "#create a class student which can hold the marks in 5 sub and also create a function to print the marks and calculate the avg of subs\n",
    "\n",
    "class student:\n",
    "    def __init__(self,eng, kan,math,sci,soc):\n",
    "        self.english=eng\n",
    "        self.kannada=kan\n",
    "        self.mathematics=math\n",
    "        self.science=sci\n",
    "        self.social=soc\n",
    "    def marks(self):\n",
    "        print(\"the marks in each sub of student:\")\n",
    "        print(\"english\",self.english)\n",
    "        print(\"kannada\",self.kannada)\n",
    "        print(\"mathematics\",self.mathematics)\n",
    "        print(\"science\",self.science)\n",
    "        print(\"social\",self.social)\n",
    "\n",
    "if __name__==\"__main__\":\n",
    "    m=student(78,89,90,100,69)\n",
    "    m.marks()\n",
    "    avg=(78+89+90+100+69)/5  \n",
    "    print(\"the avg of the student:\",avg)\n",
    "    "
   ]
  },
  {
   "cell_type": "markdown",
   "id": "0d30f8a3-c9a9-4dd4-a6f1-8e0f0de27b7c",
   "metadata": {},
   "source": [
    "*access modifiers\n",
    "*public normal\n",
    "*protected_\n",
    "*private__\n"
   ]
  },
  {
   "cell_type": "code",
   "execution_count": 3,
   "id": "754eed7b-8d91-46d0-9255-e8dafe38160e",
   "metadata": {},
   "outputs": [
    {
     "name": "stdout",
     "output_type": "stream",
     "text": [
      "1\n",
      "3\n",
      "2\n"
     ]
    }
   ],
   "source": [
    "class demo:\n",
    "    def __init__(self,a,b,c):\n",
    "       self.x=a\n",
    "       self._y=b\n",
    "       self.__z=c\n",
    "    def output_Z(self):\n",
    "        print(self.__z)\n",
    "    def output_Y(self):\n",
    "        print(self._y)\n",
    "    def output_X(self):\n",
    "        print(self.x)\n",
    "\n",
    "\n",
    "ob1=demo(1,3,2)\n",
    "ob1.output_X()\n",
    "ob1.output_Y()\n",
    "ob1.output_Z()\n",
    "\n",
    "\n",
    "\n",
    "    "
   ]
  },
  {
   "cell_type": "code",
   "execution_count": 10,
   "id": "012e04ab-6959-4d27-bf21-aa51488fbaec",
   "metadata": {},
   "outputs": [
    {
     "name": "stdout",
     "output_type": "stream",
     "text": [
      "this is fun1\n",
      "this is fun2\n",
      "this is fun3\n",
      "this is fun4\n",
      "this is fun4\n"
     ]
    }
   ],
   "source": [
    "class a:\n",
    "    def fun1(self):\n",
    "        print(\"this is fun1\")\n",
    "    def fun2(self):\n",
    "        print(\"this is fun2\")\n",
    "\n",
    "class a(b):\n",
    "    def fun3(self):\n",
    "        print(\"this is fun3\")\n",
    "    def fun4(self):\n",
    "        print(\"this is fun4\")\n",
    "\n",
    "if __name__==\"__main__\":\n",
    "    ob1=a()\n",
    "    ob2=b()\n",
    "    \n",
    "\n",
    "\n",
    "    ob1.fun1()\n",
    "    ob1.fun2()\n",
    "    ob2.fun3()\n",
    "    ob2.fun4()\n",
    "    ob1.fun4()"
   ]
  },
  {
   "cell_type": "code",
   "execution_count": 8,
   "id": "9422c676-a0d7-4d5b-9326-4b5552e724cb",
   "metadata": {},
   "outputs": [
    {
     "name": "stdout",
     "output_type": "stream",
     "text": [
      "constructor of classA\n",
      "fun of class c with  1 5\n",
      "fun of class c with  1 2\n"
     ]
    }
   ],
   "source": [
    "class c:\n",
    "    def __init__(self):\n",
    "        print(\"constructor of classA\")\n",
    "    def abc(self,a,b=5):\n",
    "        print(\"fun of class c with \",a,b)\n",
    "ob=c()\n",
    "ob.abc(1)\n",
    "ob.abc(1,2)"
   ]
  },
  {
   "cell_type": "code",
   "execution_count": 13,
   "id": "c1fb9b14-be4f-4621-9ead-fe506be572ea",
   "metadata": {},
   "outputs": [
    {
     "name": "stdout",
     "output_type": "stream",
     "text": [
      "constructor of class a\n",
      "contructor of class b\n",
      "printing the show of a\n"
     ]
    }
   ],
   "source": [
    "class a:\n",
    "    def __init__(self):\n",
    "        print(\"constructor of class a\")\n",
    "    def show(self):\n",
    "        print(\"printing the show of a\")\n",
    "\n",
    "class b:\n",
    "    def __init__(self):\n",
    "        print(\"contructor of class b\")\n",
    "    def show(self):\n",
    "        print(\"printing the show of b\")\n",
    "class c:\n",
    "    def __init__(self):\n",
    "        print(\"constructor of class a\")\n",
    "    def show(self):\n",
    "        print(\"printing the show of c\")\n",
    "\n",
    "if __name__==\"__main__\":\n",
    "    ob1=a()\n",
    "    ob2=b()\n",
    "    ob1.show()\n",
    "\n"
   ]
  },
  {
   "cell_type": "code",
   "execution_count": 20,
   "id": "80db810b-1c06-4731-99be-dede9d23c5dc",
   "metadata": {},
   "outputs": [
    {
     "name": "stdout",
     "output_type": "stream",
     "text": [
      "professional laptop having i5 8 512 6hrs\n",
      "gaming laptop having 2 i5 8 512\n"
     ]
    }
   ],
   "source": [
    "class laptop:\n",
    "    def __init__(self,p,r,s):\n",
    "        self.processor=p\n",
    "        self.ram=r\n",
    "        self.storage=s\n",
    "\n",
    "class prof(laptop):\n",
    "    def __init__(self,bbp,p,r,s):\n",
    "        self.batterybackup=bbp\n",
    "        super().__init__(p,r,s)\n",
    "\n",
    "class gaming(laptop):\n",
    "    def __init__(self,g, p,r,s):\n",
    "        self.graphiccard=g\n",
    "        super().__init__(p,r,s)\n",
    "\n",
    "\n",
    "prop1=prof(\"6hrs\",\"i5\",8,512)\n",
    "\n",
    "gam1=gaming(2,\"i5\",8,512)\n",
    "\n",
    "print(\"professional laptop having\",\n",
    "      prop1.processor,prop1.ram,\n",
    "      prop1.storage,prop1.batterybackup)\n",
    "print(\"gaming laptop having\",\n",
    "       gam1.graphiccard,gam1.processor,gam1.ram,\n",
    "      gam1.storage)\n",
    "      \n"
   ]
  },
  {
   "cell_type": "markdown",
   "id": "12780877-5130-4aac-a0ba-9942150e2c62",
   "metadata": {},
   "source": [
    "write a program to demonstrate the working of railway ticket booking .\n",
    "create required classes like \n",
    "ticket class|general ticket|sleeper ticket|AC ticket|first class ticket.\n",
    "show the uses of inheritance in this and create a proper ticket booking model for indan railway.\n",
    "After booking the ticket you have to show the final ticket price to the customer.\n",
    "consider only 3 source and destination as \n",
    "A 500kms|B 600kms|c 400kms\n",
    "booking charges:50|Distance charges:2kms|\n",
    "sleeper chargers:2/kms|ac charges:4kms|first class charges:5/km"
   ]
  },
  {
   "cell_type": "code",
   "execution_count": 2,
   "id": "23f7da1c-a379-4a42-9813-cceada39ee6e",
   "metadata": {},
   "outputs": [
    {
     "name": "stdout",
     "output_type": "stream",
     "text": [
      "ticket booked fareprice will be : 6550\n"
     ]
    }
   ],
   "source": [
    "class ticket:\n",
    "    def __init__(self,D):\n",
    "        self.distance=int(D)\n",
    "        self.fareprice= None\n",
    "\n",
    "class gen(ticket):\n",
    "    def __init__(self,D):\n",
    "        super().__init__(D)\n",
    "    def print_ticket(self):\n",
    "        self.fareprice=50+(self.distance*2)\n",
    "        return self.fareprice\n",
    "    \n",
    "\n",
    "class sleeper(gen):\n",
    "    def __init__(self,D):\n",
    "        super().__init__(D)\n",
    "    def print_ticket(self):\n",
    "        self.fareprice=super().print_ticket()+(2*self.distance)\n",
    "        return self.fareprice\n",
    "    \n",
    "\n",
    "class Ac(sleeper):\n",
    "    def __init__(self,D):\n",
    "        super().__init__(D)\n",
    "    def print_ticket(self):\n",
    "        self.fareprice=super().print_ticket()+(4*self.distance)\n",
    "        return self.fareprice\n",
    "    \n",
    "\n",
    "class first(Ac):\n",
    "    def __init__(self,D):\n",
    "        super().__init__(D)\n",
    "    def print_ticket(self):\n",
    "        self.fareprice=super().print_ticket()+(5*self.distance)\n",
    "        return self.fareprice\n",
    "\n",
    "jc=first(500)\n",
    "print(\"ticket booked fareprice will be :\",jc.print_ticket())"
   ]
  },
  {
   "cell_type": "code",
   "execution_count": 12,
   "id": "cc7ceba7-4272-4c5b-968b-c24adfa080f1",
   "metadata": {},
   "outputs": [
    {
     "name": "stdout",
     "output_type": "stream",
     "text": [
      "configuration of vehicle is:\n",
      "engine 100cc\n",
      "regplate re\n",
      "price 10000\n",
      "colour orange\n",
      "config of caris:\n",
      "type of car: KN\n",
      "no of people: 7\n",
      "max speed: 100\n",
      "config of truck is:\n",
      "load capcity: 1200\n",
      "no of axcle: 400\n"
     ]
    }
   ],
   "source": [
    "class vehicle:\n",
    "    def __init__(self,en,reg,pr,clo):\n",
    "        self.engine=en\n",
    "        self.regplate=reg\n",
    "        self.price=pr\n",
    "        self.colour=clo\n",
    "    def vehicleconfig(self):\n",
    "         \n",
    "         print(\"configuration of vehicle is:\")\n",
    "         print(\"engine\",self.engine)\n",
    "         print(\"regplate\",self.regplate)\n",
    "         print(\"price\",self.price)\n",
    "         print(\"colour\",self.colour)\n",
    "\n",
    "class car(vehicle):\n",
    "    def __init__(self,ty,no,spp,en,reg,pr,clo):\n",
    "       self.type=ty\n",
    "       self.noofpeople=no\n",
    "       self.speed=spp\n",
    "       super().__init__(en,reg,pr,clo)\n",
    "    def carconfig(self):\n",
    "        print(\"config of caris:\")\n",
    "        print(\"type of car:\",self.type)\n",
    "        print(\"no of people:\",self.noofpeople)\n",
    "        print(\"max speed:\",self.speed)\n",
    "\n",
    "class truck(vehicle):\n",
    "    def __init__(self,lc,ax,en,reg,pr,clo):\n",
    "        self.loadcap=lc\n",
    "        self.axcle=ax\n",
    "        super().__init__(en,reg,pr,clo)\n",
    "    def truckconfig(self):\n",
    "        print(\"config of truck is:\")\n",
    "        print(\"load capcity:\",self.loadcap)\n",
    "        print(\"no of axcle:\",self.axcle)\n",
    "        \n",
    "    \n",
    "\n",
    "if __name__== \"__main__\":\n",
    "  v1=vehicle(\"100cc\",\"re\",10000,\"orange\")\n",
    "  v1.vehicleconfig()\n",
    "\n",
    "  car1=car(\"KN\",7,100,\"100cc\",\"re\",1000,\"black\")\n",
    "  car1.carconfig()\n",
    "\n",
    "  truck1=truck(1200,400,\"1000cc\",\"re\",1000,\"red\")\n",
    "  truck1.truckconfig()\n",
    "\n",
    "\n",
    "        "
   ]
  },
  {
   "cell_type": "code",
   "execution_count": 16,
   "id": "d98fac68-f888-4497-b7b5-7032dd05dcb2",
   "metadata": {},
   "outputs": [
    {
     "name": "stdout",
     "output_type": "stream",
     "text": [
      "employee info is: ceo 2 34 sushma 100000\n",
      "employee info is: ss tec 4 34 sneha 450000\n"
     ]
    }
   ],
   "source": [
    "class employee:\n",
    "    def __init__(self,eid,ename,esalary):\n",
    "        self.id=eid\n",
    "        self.name=ename\n",
    "        self.salary=esalary\n",
    "\n",
    "class staff(employee):\n",
    "    def __init__(self,ty,pos,eid,ename,esalary):\n",
    "        self.type=ty\n",
    "        self.position=pos\n",
    "        super().__init__(eid,ename,esalary)\n",
    "\n",
    "class developer(employee):\n",
    "     def __init__(self,m,t,e,eid,ename,esalary):\n",
    "        self.module=m\n",
    "        self.tech=t\n",
    "        self.experience=e\n",
    "        super().__init__(eid,ename,esalary)\n",
    "    \n",
    "\n",
    "s1=staff(\"ceo\",2,34,\"sushma\",100000)\n",
    "print(\"employee info is:\", s1.type,s1.position,s1.id,s1.name,s1.salary)\n",
    "\n",
    "d1=developer(\"ss\",\"tec\",4,34,\"sneha\",450000)\n",
    "print(\"employee info is:\",d1.module,d1.tech,d1.experience,d1.id,d1.name,d1.salary)\n",
    "    "
   ]
  },
  {
   "cell_type": "code",
   "execution_count": null,
   "id": "af06c6a0-3cd6-444d-9475-cfc26bf9ae59",
   "metadata": {},
   "outputs": [],
   "source": []
  }
 ],
 "metadata": {
  "kernelspec": {
   "display_name": "Python 3 (ipykernel)",
   "language": "python",
   "name": "python3"
  },
  "language_info": {
   "codemirror_mode": {
    "name": "ipython",
    "version": 3
   },
   "file_extension": ".py",
   "mimetype": "text/x-python",
   "name": "python",
   "nbconvert_exporter": "python",
   "pygments_lexer": "ipython3",
   "version": "3.12.3"
  }
 },
 "nbformat": 4,
 "nbformat_minor": 5
}

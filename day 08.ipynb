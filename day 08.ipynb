{
 "cells": [
  {
   "cell_type": "code",
   "execution_count": 7,
   "id": "d1843f78-e2da-4df8-aab1-677c0afef874",
   "metadata": {},
   "outputs": [
    {
     "name": "stdout",
     "output_type": "stream",
     "text": [
      "24\n"
     ]
    }
   ],
   "source": [
    "l=[2,4,6,1,3,7,4,6,4,1,3,9,6,4,9,8,7,6,8]\n",
    "#find the max sum any 3 consecutive elements of the array.\n",
    "max=0\n",
    "for x in range(0,len(l)-2):\n",
    "    sum=l[x]+l[x+1]+l[x+2]\n",
    "    if(max<sum):\n",
    "        max=sum\n",
    "\n",
    "print(m)\n",
    "    \n",
    "    \n",
    "    \n"
   ]
  },
  {
   "cell_type": "code",
   "execution_count": 13,
   "id": "7f13203d-ea3d-4a93-a29a-07d2633c8958",
   "metadata": {
    "scrolled": true
   },
   "outputs": [
    {
     "name": "stdin",
     "output_type": "stream",
     "text": [
      "enter the consecutive elements 4\n"
     ]
    },
    {
     "name": "stdout",
     "output_type": "stream",
     "text": [
      "4\n"
     ]
    }
   ],
   "source": [
    "l=[2,3,4,5,6,7,8,9,2,3,5,6]\n",
    "n=int(input(\"enter the consecutive elements\"))\n",
    "max=0\n",
    "for x in range(0,len(l)-(n-1)):\n",
    "    sum=0\n",
    "    sum=sum+l[x+j]\n",
    "    if max<sum:\n",
    "       max=sum\n",
    "print(max)    \n"
   ]
  },
  {
   "cell_type": "code",
   "execution_count": 18,
   "id": "76756b49-661c-4a58-8aff-188f5d185a10",
   "metadata": {},
   "outputs": [
    {
     "name": "stdin",
     "output_type": "stream",
     "text": [
      "enter the consitive number 2\n"
     ]
    },
    {
     "name": "stdout",
     "output_type": "stream",
     "text": [
      "17\n"
     ]
    }
   ],
   "source": [
    "l=[2,4,6,1,3,7,4,6,4,1,3,9,6,4,9,8,7,6,8]\n",
    "con=int(input(\"enter the consitive number\"))\n",
    "max=sum=0\n",
    "for i in range(0,con):\n",
    "    sum=sum+l[i]\n",
    "for x in range(0,len(l)-con-1):\n",
    "    if max<sum:\n",
    "        max=sum\n",
    "    sum=sum+l[x+con]-l[x]\n",
    "\n",
    "print(max)"
   ]
  },
  {
   "cell_type": "code",
   "execution_count": 2,
   "id": "074d9da8-60b2-477a-b472-686259d62d86",
   "metadata": {},
   "outputs": [
    {
     "name": "stdout",
     "output_type": "stream",
     "text": [
      "[1, 1, 2, 3, 3, 4, 4, 4, 4, 6, 6, 6, 6, 7, 7, 8, 8, 9, 9]\n"
     ]
    }
   ],
   "source": [
    "l=[2,4,6,1,3,7,4,6,4,1,3,9,6,4,9,8,7,6,8]\n",
    "l.sort()\n",
    "print(l)\n"
   ]
  },
  {
   "cell_type": "code",
   "execution_count": 1,
   "id": "a340f0ee-d20b-4260-bd7e-662ded30434b",
   "metadata": {},
   "outputs": [
    {
     "name": "stdout",
     "output_type": "stream",
     "text": [
      "[2, 4, 6, 1, 3, 7, 4, 6, 4, 1, 3, 9, 6, 4, 9, 8, 7, 6, 8, 7, 8, 4, 5, 2, 4, 3, 6, 8, 9, 0, 11, 12, 13, 15]\n",
      "[0, 1, 1, 2, 2, 3, 3, 3, 4, 4, 4, 4, 4, 4, 5, 6, 6, 6, 6, 6, 7, 7, 7, 8, 8, 8, 8, 9, 9, 9, 11, 12, 13, 15]\n"
     ]
    }
   ],
   "source": [
    "l=[2,4,6,1,3,7,4,6,4,1,3,9,6,4,9,8,7,6,8,7,8,4,5,2,4,3,6,8,9,0,11,12,13,15]\n",
    "print(l)\n",
    "l.sort()\n",
    "print(l)"
   ]
  },
  {
   "cell_type": "code",
   "execution_count": 10,
   "id": "41ab9ee0-7e04-44c9-b089-0bf2c8c5bc78",
   "metadata": {},
   "outputs": [
    {
     "name": "stdout",
     "output_type": "stream",
     "text": [
      "the sorted list is: [2, 23, 35, 56, 78, 87, 90, 98]\n"
     ]
    }
   ],
   "source": [
    "#bubble sort\n",
    "l=[23,78,90,56,35,2,87,98]\n",
    "for i in range(0,len(l)): \n",
    "    for j in range(0,7):\n",
    "        if(l[j]>l[j+1]):\n",
    "            temp=l[j]\n",
    "            l[j]=l[j+1]\n",
    "            l[j+1]=temp\n",
    "print(\"the sorted list is:\",l)"
   ]
  },
  {
   "cell_type": "markdown",
   "id": "e4d6ab4b-3acc-490e-b7fc-c5c4e24ac539",
   "metadata": {},
   "source": [
    "#quick sort\n",
    "insertion sort:\n",
    "\n",
    "i->0-.n\n",
    "j->0->i+1\n",
    "temp=ar[j]\n",
    "if(temp<ar[j-1])\n",
    "ar[j]=ar[j-1]\n",
    "else\n",
    "ar[j]=temp\n"
   ]
  },
  {
   "cell_type": "code",
   "execution_count": 8,
   "id": "2da39fed-ce80-4162-8f42-21154d27f423",
   "metadata": {},
   "outputs": [
    {
     "name": "stdout",
     "output_type": "stream",
     "text": [
      "[2, 23, 35, 56, 78, 87, 90, 98]\n"
     ]
    }
   ],
   "source": [
    "#quik sort \n",
    "def findpi(l,low,high):\n",
    "    pe=l[high]\n",
    "    j=low-1\n",
    "    \n",
    "    for i in range(low,high):\n",
    "        if pe>l[i]:\n",
    "            j+=1\n",
    "            l[i],l[j]=l[j],l[i]\n",
    "    l[high],l[j+1]=l[j+1],l[high]\n",
    "    return j+1\n",
    "\n",
    "def quicksort(l,low,high):\n",
    "    if low<high:\n",
    "        pi=findpi(l,low,high)\n",
    "        quicksort(l,low,pi-1)\n",
    "        quicksort(l,pi+1,high)\n",
    "\n",
    "l=[23,78,90,56,35,2,87,98]\n",
    "quicksort(l,0,len(l)-1)\n",
    "print(l)"
   ]
  },
  {
   "cell_type": "code",
   "execution_count": 29,
   "id": "f9d2b281-22dc-4f7f-b488-1270b99b8756",
   "metadata": {},
   "outputs": [
    {
     "name": "stdout",
     "output_type": "stream",
     "text": [
      "[2, 23, 35, 56, 78, 87, 90, 98]\n"
     ]
    }
   ],
   "source": [
    "#insertion sort\n",
    "l=[23,78,90,56,35,2,87,98]\n",
    "for i in range(1,len(l)):\n",
    "    temp=l[i]\n",
    "    j=i-1\n",
    "    while j>=0 and temp < l[j]:\n",
    "        l[j+1]=l[j]\n",
    "        j -=1\n",
    "    l[j+1]=temp\n",
    "\n",
    "print(l)\n",
    "   "
   ]
  },
  {
   "cell_type": "code",
   "execution_count": 2,
   "id": "4f7bd747-79f9-4fe0-8b77-a3abed17f991",
   "metadata": {},
   "outputs": [
    {
     "name": "stdout",
     "output_type": "stream",
     "text": [
      "[2, 23, 35, 56, 78, 87, 90, 98]\n"
     ]
    }
   ],
   "source": [
    "#selection sort\n",
    "l=[23,78,90,56,35,2,87,98]\n",
    "for i in range(0,len(l)):\n",
    "    minidx=i\n",
    "    for j in range(i+1,len(l)):\n",
    "        if l[minidx]>l[j]:\n",
    "            minidx=j\n",
    "    temp=l[i]\n",
    "    l[i]=l[minidx]\n",
    "    l[minidx]=temp\n",
    "print(l)\n",
    "        "
   ]
  },
  {
   "cell_type": "code",
   "execution_count": 7,
   "id": "7799aa2d-69a6-4c53-83e9-24a620d88117",
   "metadata": {},
   "outputs": [
    {
     "name": "stdout",
     "output_type": "stream",
     "text": [
      "0\n"
     ]
    }
   ],
   "source": [
    "a=[3,5,9,0,5]\n",
    "\n",
    "m=a[0]\n",
    "for i in range(len(a)):\n",
    "    if a[i]<m:\n",
    "        m=a[i]\n",
    "        \n",
    "\n",
    "print(m)\n"
   ]
  },
  {
   "cell_type": "code",
   "execution_count": 1,
   "id": "9a304854-32a5-4abf-8847-54de584a7b89",
   "metadata": {},
   "outputs": [
    {
     "name": "stdout",
     "output_type": "stream",
     "text": [
      "[0, 1, 2, 3, 4, 7, 8, 9]\n"
     ]
    },
    {
     "name": "stdin",
     "output_type": "stream",
     "text": [
      " 6\n"
     ]
    },
    {
     "name": "stdout",
     "output_type": "stream",
     "text": [
      "item not  found in list\n",
      "low 0 high 8 mid 4\n",
      "low 5 high 8 mid 6\n",
      "element not found\n"
     ]
    }
   ],
   "source": [
    "#binary search\n",
    "\n",
    "l=[3,4,8,9,2,0,1,7]\n",
    "l.sort()\n",
    "print(l)\n",
    "low=0\n",
    "high=len(l)\n",
    "\n",
    "src=int(input())\n",
    "try:\n",
    "    print(\"index of element is\",l.index(src))\n",
    "except:\n",
    "    print(\"item not  found in list\")\n",
    "\n",
    "flag=0\n",
    "while low<high:\n",
    "    mid=int((low+high)/2)\n",
    "    print(\"low\",low,\"high\",high,\"mid\",mid)\n",
    "    if src<l[mid]:\n",
    "        high=mid-1\n",
    "    elif src>l[mid]:\n",
    "        low=mid+1\n",
    "    else:\n",
    "        flag=1\n",
    "        break;\n",
    "\n",
    "if flag==1:\n",
    "    print(\"element found at \",mid)\n",
    "else:\n",
    "    print(\"element not found\")\n",
    "    \n",
    "    \n",
    "\n",
    "\n",
    "        \n",
    "    \n",
    " \n",
    " \n"
   ]
  },
  {
   "cell_type": "code",
   "execution_count": 2,
   "id": "823b5e31-c679-43da-ba2c-8b3107d02d46",
   "metadata": {},
   "outputs": [
    {
     "name": "stdin",
     "output_type": "stream",
     "text": [
      "enter the sentence this is (car\n"
     ]
    },
    {
     "name": "stdout",
     "output_type": "stream",
     "text": [
      "then is valid \n"
     ]
    }
   ],
   "source": [
    "a=input(\"enter the sentence\")\n",
    "if '(':\n",
    "   print(\"then is valid \")\n",
    "elif '{':\n",
    "    print(\"then is valid\")\n",
    "elif'[':\n",
    "    print(\"then it is valid\")\n",
    "\n",
    "else:\n",
    "    print(\"it is not valid\")\n",
    "          "
   ]
  },
  {
   "cell_type": "code",
   "execution_count": 5,
   "id": "f6c98cd8-a243-4b11-948f-0e5e26fdf439",
   "metadata": {},
   "outputs": [
    {
     "name": "stdin",
     "output_type": "stream",
     "text": [
      " {i [am](sushma)}\n"
     ]
    },
    {
     "name": "stdout",
     "output_type": "stream",
     "text": [
      "valid string\n"
     ]
    }
   ],
   "source": [
    "s=input()\n",
    "x=y=z=0\n",
    "for c in s :\n",
    "    match (c) :\n",
    "         case '(': x+=1\n",
    "         case ')': x-=1\n",
    "         case '{': y+=1\n",
    "         case '}': y-=1\n",
    "         case '[': z+=1\n",
    "         case ']': z-=1\n",
    "         case _  :continue\n",
    "\n",
    "\n",
    "if x+y+z==0:\n",
    "    print(\"valid string\")\n",
    "\n",
    "else:\n",
    "    print(\"not valid\")"
   ]
  },
  {
   "cell_type": "code",
   "execution_count": 2,
   "id": "d58d7d94-8b8e-42aa-93c1-bb85d0bcc061",
   "metadata": {},
   "outputs": [
    {
     "name": "stdin",
     "output_type": "stream",
     "text": [
      "enter a stack 67\n"
     ]
    },
    {
     "name": "stdout",
     "output_type": "stream",
     "text": [
      "[12, 23, 34, 56, 67]\n"
     ]
    }
   ],
   "source": [
    "stack=[12,23,34,56]\n",
    "a=int(input(\"enter a stack\"))\n",
    "stack.append(a)\n",
    "print(stack)\n",
    "    \n",
    "    \n",
    "    "
   ]
  },
  {
   "cell_type": "code",
   "execution_count": 6,
   "id": "1d69e512-15a0-4040-90e4-5463b9cbbbf5",
   "metadata": {},
   "outputs": [
    {
     "name": "stdout",
     "output_type": "stream",
     "text": [
      "item added to the stack\n",
      "item added to the stack\n",
      "item added to the stack\n",
      "[1, 2, 5]\n",
      "item removed from the stack\n",
      "[1, 2]\n"
     ]
    }
   ],
   "source": [
    "def add(e):\n",
    "    s.append(e)\n",
    "    print(\"item added to the stack\")\n",
    "def delete():\n",
    "    s.pop()\n",
    "    print(\"item removed from the stack\")\n",
    "\n",
    "s=[]\n",
    "add(1)\n",
    "add(2)\n",
    "add(5)\n",
    "print(s)\n",
    "\n",
    "delete()\n",
    "print(s)\n"
   ]
  },
  {
   "cell_type": "code",
   "execution_count": 12,
   "id": "fe6cc29a-cc5d-474c-9ab4-1fc7971006db",
   "metadata": {},
   "outputs": [
    {
     "name": "stdout",
     "output_type": "stream",
     "text": [
      "item added to the stack\n",
      "item added to the stack\n",
      "item added to the stack\n",
      "[]\n"
     ]
    }
   ],
   "source": [
    "def rear(e):\n",
    "    q.rear(e)\n",
    "    print(\"item added to queue\")\n",
    "def front(e):\n",
    "    q.front(e)\n",
    "    print(\"item removed\")\n",
    "\n",
    "q=[]\n",
    "add(1)\n",
    "add(2)\n",
    "add(5)\n",
    "print(q)\n"
   ]
  },
  {
   "cell_type": "code",
   "execution_count": null,
   "id": "f81e3aee-cb52-4166-ae70-55a5a705fd26",
   "metadata": {},
   "outputs": [],
   "source": []
  }
 ],
 "metadata": {
  "kernelspec": {
   "display_name": "Python 3 (ipykernel)",
   "language": "python",
   "name": "python3"
  },
  "language_info": {
   "codemirror_mode": {
    "name": "ipython",
    "version": 3
   },
   "file_extension": ".py",
   "mimetype": "text/x-python",
   "name": "python",
   "nbconvert_exporter": "python",
   "pygments_lexer": "ipython3",
   "version": "3.12.3"
  }
 },
 "nbformat": 4,
 "nbformat_minor": 5
}

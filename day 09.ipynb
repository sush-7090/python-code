{
 "cells": [
  {
   "cell_type": "code",
   "execution_count": 7,
   "id": "abce29f2-0f2c-4550-bb98-96f93c622055",
   "metadata": {},
   "outputs": [
    {
     "name": "stdout",
     "output_type": "stream",
     "text": [
      "add a item\n",
      "add a item\n",
      "add a item\n",
      "[1, 2, 3]\n"
     ]
    }
   ],
   "source": [
    "def add(e):\n",
    "    s.append(e)\n",
    "    print(\"add a item\")\n",
    "s=[]\n",
    "add(1)\n",
    "add(2)\n",
    "add(3)\n",
    "print(s)\n",
    "\n",
    "    \n",
    "             \n"
   ]
  },
  {
   "cell_type": "code",
   "execution_count": 2,
   "id": "60103d09-fb36-47ce-a404-36d74f35396f",
   "metadata": {},
   "outputs": [
    {
     "name": "stdin",
     "output_type": "stream",
     "text": [
      " this is kn\n"
     ]
    },
    {
     "name": "stdout",
     "output_type": "stream",
     "text": [
      "nk si siht"
     ]
    }
   ],
   "source": [
    "a=input()\n",
    "s=[]\n",
    "for e in a:\n",
    "    s.append(e)\n",
    "\n",
    "\n",
    "while len(s)>0:\n",
    "    print(s.pop(),end=\"\")"
   ]
  },
  {
   "cell_type": "code",
   "execution_count": 5,
   "id": "24331164-97cd-4d30-851d-a71ef438faca",
   "metadata": {},
   "outputs": [
    {
     "name": "stdin",
     "output_type": "stream",
     "text": [
      " this is car\n"
     ]
    },
    {
     "name": "stdout",
     "output_type": "stream",
     "text": [
      "car is this "
     ]
    }
   ],
   "source": [
    "a=input()\n",
    "s=[]\n",
    "for e in a.split():\n",
    "    s.append(e)\n",
    "while len(s)>0:\n",
    "    print(s.pop(),end=\" \")"
   ]
  },
  {
   "cell_type": "markdown",
   "id": "f85f8178-7e21-4071-89bf-0a7e42f5cf6c",
   "metadata": {},
   "source": [
    "1'identify the character->operator,brackets,operands\n",
    "2.operator predecence\n"
   ]
  },
  {
   "cell_type": "code",
   "execution_count": 13,
   "id": "50d11baa-ab15-441d-95c8-6902e8b0fd6f",
   "metadata": {},
   "outputs": [
    {
     "name": "stdin",
     "output_type": "stream",
     "text": [
      " (a+b)^(b-C)*d\n"
     ]
    },
    {
     "name": "stdout",
     "output_type": "stream",
     "text": [
      " ab+bC-^d*\n"
     ]
    }
   ],
   "source": [
    "#infix to postfix program:\n",
    "def prec(e):\n",
    "    if e==\"^\":\n",
    "        return 3\n",
    "    elif e ==\"*\" or e==\"/\":\n",
    "        return 2\n",
    "    elif e==\"+\" or e==\"-\":\n",
    "        return 1\n",
    "    else :\n",
    "        return -1\n",
    "\n",
    "def asoc(e):\n",
    "    if e=='^':\n",
    "        return R\n",
    "    else:\n",
    "        return L\n",
    "    \n",
    "    \n",
    "exp=input()\n",
    "s=[]\n",
    "str=\" \"\n",
    "for e in exp:\n",
    "    if e.isalnum()==True:\n",
    "        str +=e\n",
    "    elif e =='(':\n",
    "        s.append(e)\n",
    "    elif e ==')':\n",
    "        while  s[-1] !='(':\n",
    "            str +=s.pop()\n",
    "        s.pop()\n",
    "    else:\n",
    "        while s and (prec(e)<prec(s[-1]) or\n",
    "                     (prec(e)==prec(s[-1]) and asoc(e)=='L')):\n",
    "            str +=s.pop()\n",
    "        s.append(e)\n",
    "\n",
    "while s:\n",
    "    str +=s.pop()\n",
    "\n",
    "print(str)\n",
    "        \n",
    "        \n",
    "    "
   ]
  },
  {
   "cell_type": "markdown",
   "id": "8ef6acba-73b8-4f10-af75-418543a1586a",
   "metadata": {},
   "source": [
    "In a arcade game, there is a king who spelled by a witch that whenever he eat he have to take care of what is sequence of his food intake.If he eats similar food one after other it will cancel out the its effect and total enery eas decreased.your task is to determine the total energy of king after his meal\n"
   ]
  },
  {
   "cell_type": "code",
   "execution_count": 20,
   "id": "89b0f9ad-6db1-46ce-bb7f-157a0ea437e1",
   "metadata": {},
   "outputs": [
    {
     "name": "stdin",
     "output_type": "stream",
     "text": [
      " a d c r r a a d r d c c \n"
     ]
    },
    {
     "name": "stdout",
     "output_type": "stream",
     "text": [
      "['a', 'd', 'c', 'r', 'r', 'a', 'a', 'd', 'r', 'd', 'c', 'c']\n",
      "6 ['a', 'd', 'c', 'd', 'r', 'd']\n"
     ]
    }
   ],
   "source": [
    "a=[item for item in input().split()]\n",
    "print(a)\n",
    "s=[]\n",
    "for item in a:\n",
    "    if  not s:\n",
    "        s.append(item)\n",
    "    elif s[-1] == item:\n",
    "        s.pop()\n",
    "    else:\n",
    "        s.append(item)\n",
    "    \n",
    "print(len(s),s)\n",
    "    \n"
   ]
  },
  {
   "cell_type": "code",
   "execution_count": 1,
   "id": "c4101adb-87a1-4861-a053-f723d762173d",
   "metadata": {},
   "outputs": [
    {
     "name": "stdin",
     "output_type": "stream",
     "text": [
      " i am (m}\n"
     ]
    },
    {
     "name": "stdout",
     "output_type": "stream",
     "text": [
      "not valid\n"
     ]
    }
   ],
   "source": [
    "s=input()\n",
    "x=y=z=0\n",
    "for c in s :\n",
    "    match (c) :\n",
    "         case '(': x+=1\n",
    "         case ')': x-=1\n",
    "         case '{': y+=1\n",
    "         case '}': y-=1\n",
    "         case '[': z+=1\n",
    "         case ']': z-=1\n",
    "         case _  :continue\n",
    "\n",
    "\n",
    "if x==0 and y == 0 and z== 0:\n",
    "    print(\"valid string\")\n",
    "\n",
    "else:\n",
    "    print(\"not valid\")"
   ]
  },
  {
   "cell_type": "code",
   "execution_count": 4,
   "id": "0ecc7a89-f9b2-461b-a647-688711d88b1c",
   "metadata": {},
   "outputs": [
    {
     "name": "stdin",
     "output_type": "stream",
     "text": [
      " hyrdvn IJI(i{drftgy)}\n"
     ]
    },
    {
     "name": "stdout",
     "output_type": "stream",
     "text": [
      "invalid\n"
     ]
    }
   ],
   "source": [
    "exp=input()\n",
    "s=[]\n",
    "for e in exp:\n",
    "    if e =='('or e ==\"{\" or e ==\"[\":\n",
    "        s.append(e)\n",
    "    elif(e == ')'and s[-1]=='(') or(e==\"}\"and s[-1]=='{') or (e==']' and s[-1]=='['):\n",
    "        s.pop()\n",
    "    else:\n",
    "        continue\n",
    "if not s:\n",
    "    print(\"valid\")\n",
    "else:\n",
    "    print(\"invalid\")\n",
    "            \n",
    "    "
   ]
  },
  {
   "cell_type": "code",
   "execution_count": null,
   "id": "a23a36a2-2981-400e-a98f-f267742b508a",
   "metadata": {},
   "outputs": [],
   "source": []
  }
 ],
 "metadata": {
  "kernelspec": {
   "display_name": "Python 3 (ipykernel)",
   "language": "python",
   "name": "python3"
  },
  "language_info": {
   "codemirror_mode": {
    "name": "ipython",
    "version": 3
   },
   "file_extension": ".py",
   "mimetype": "text/x-python",
   "name": "python",
   "nbconvert_exporter": "python",
   "pygments_lexer": "ipython3",
   "version": "3.12.3"
  }
 },
 "nbformat": 4,
 "nbformat_minor": 5
}

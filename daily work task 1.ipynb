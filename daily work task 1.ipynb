{
 "cells": [
  {
   "cell_type": "code",
   "execution_count": 2,
   "id": "2056f7d9-9908-42e9-afc2-bd34644e4d64",
   "metadata": {},
   "outputs": [
    {
     "name": "stdout",
     "output_type": "stream",
     "text": [
      "Please select operation -\n",
      "1. Add\n",
      "2. Subtract\n",
      "3. Multiply\n",
      "4. Divide\n",
      "\n"
     ]
    },
    {
     "name": "stdout",
     "output_type": "stream",
     "text": [
      "Select operations form 1, 2, 3, 4 : 1\n",
      "Enter first number:  20\n",
      "Enter second number:  20\n"
     ]
    },
    {
     "name": "stdout",
     "output_type": "stream",
     "text": [
      "20 + 20 = 40\n"
     ]
    }
   ],
   "source": [
    "#Develop a  menu driven code to perform the basic arithmetic operations like additions,subtraction ,division ,moduls ,multiplication ,power\n",
    "def add(num1, num2):\n",
    "\treturn num1 + num2\n",
    "\n",
    "\n",
    "def subtract(num1, num2):\n",
    "\treturn num1 - num2\n",
    "\n",
    "def multiply(num1, num2):\n",
    "\treturn num1 * num2\n",
    "\n",
    "def divide(num1, num2):\n",
    "\treturn num1 / num2\n",
    "\n",
    "print(\"Please select operation -\\n\" \\\n",
    "\t\t\"1. Add\\n\" \\\n",
    "\t\t\"2. Subtract\\n\" \\\n",
    "\t\t\"3. Multiply\\n\" \\\n",
    "\t\t\"4. Divide\\n\")\n",
    "\n",
    "\n",
    "select = int(input(\"Select operations form 1, 2, 3, 4 :\"))\n",
    "\n",
    "number_1 = int(input(\"Enter first number: \"))\n",
    "number_2 = int(input(\"Enter second number: \"))\n",
    "\n",
    "if select == 1:\n",
    "\tprint(number_1, \"+\", number_2, \"=\",add(number_1, number_2))\n",
    "\n",
    "elif select == 2:\n",
    "\tprint(number_1, \"-\", number_2, \"=\",\n",
    "\t\t\t\t\tsubtract(number_1, number_2))\n",
    "\n",
    "elif select == 3:\n",
    "\tprint(number_1, \"*\", number_2, \"=\",\n",
    "\t\t\t\t\tmultiply(number_1, number_2))\n",
    "\n",
    "elif select == 4:\n",
    "\tprint(number_1, \"/\", number_2, \"=\",\n",
    "\t\t\t\t\tdivide(number_1, number_2))\n",
    "else:\n",
    "\tprint(\"Invalid input\")"
   ]
  },
  {
   "cell_type": "code",
   "execution_count": 7,
   "id": "3cfeb160-466e-4ce3-bdf4-927b2559a230",
   "metadata": {},
   "outputs": [
    {
     "name": "stdout",
     "output_type": "stream",
     "text": [
      "Enter a character:  sony\n"
     ]
    },
    {
     "name": "stdout",
     "output_type": "stream",
     "text": [
      "sony is a lower case letter.\n"
     ]
    }
   ],
   "source": [
    "#Write a program to identify the input character by the user as lower case, uper case, numerics or special characters.\n",
    "character = input(\"Enter a character: \")\n",
    "\n",
    "lowerLetters = \"abcdefghijklmnopqrstuvwxyz\"\n",
    "upperLetters = \"ABCDEFGHIJKLMNOPQRSTUVWXYZ\"\n",
    "digits = \"0123456789\"\n",
    "lowerCount = 0\n",
    "upperCount = 0\n",
    "digitCount = 0\n",
    "nonAlphaCount = 0\n",
    "\n",
    "for ch in character:\n",
    "    for ch in lowerLetters:\n",
    "        lowerCount += 1\n",
    "    for ch in upperLetters:\n",
    "        upperCount += 1\n",
    "    for ch in digits:\n",
    "        digitCount += 1\n",
    "    else:\n",
    "        nonAlphaCount += 1\n",
    "\n",
    "if lowerCount > 0:\n",
    "    print(character, \"is a lower case letter.\")\n",
    "elif upperCount > 0:\n",
    "    print(character, \"is an upper case letter.\")\n",
    "elif digitCount > 0:\n",
    "    print(character, \"is a digit.\")\n",
    "elif nonAlphaCount > 0:\n",
    "    print(character, \"is a non-alphanumeric character.\")\n",
    "\n"
   ]
  },
  {
   "cell_type": "code",
   "execution_count": 27,
   "id": "e8fb3fc5-7884-4edb-ab1f-05c3ed73213b",
   "metadata": {},
   "outputs": [
    {
     "name": "stdout",
     "output_type": "stream",
     "text": [
      "Enter a string to check if it's a palindrome:  SUSHMA\n"
     ]
    },
    {
     "name": "stdout",
     "output_type": "stream",
     "text": [
      "No, 'SUSHMA' is not a palindrome.\n"
     ]
    }
   ],
   "source": [
    "#>Write a program to check whether a string is palindrome or not\n",
    "def is_palindrome(s):\n",
    "    s = s.lower()  # Convert the string to lowercase\n",
    "    s = ''.join(c for c in s if c.isalnum())  # Remove non-alphanumeric characters\n",
    "    return s == s[::-1]  # Check if the string is equal to its reverse\n",
    "\n",
    "# Test the function\n",
    "string = input(\"Enter a string to check if it's a palindrome: \")\n",
    "if is_palindrome(string):\n",
    "    print(\"Yes, '{}' is a palindrome.\".format(string))\n",
    "else:\n",
    "    print(\"No, '{}' is not a palindrome.\".format(string))\n"
   ]
  },
  {
   "cell_type": "code",
   "execution_count": 9,
   "id": "bc1a82fd-f12a-4dd8-8d78-1c113d5ff9de",
   "metadata": {},
   "outputs": [
    {
     "name": "stdout",
     "output_type": "stream",
     "text": [
      "Enter a number:  1789034\n"
     ]
    },
    {
     "name": "stdout",
     "output_type": "stream",
     "text": [
      "Reversed number:  4309871\n"
     ]
    }
   ],
   "source": [
    "#Write a program to reverse a digits of number\n",
    "def reverse_number(num):\n",
    "    reversed_num = 0\n",
    "    while num > 0:\n",
    "        digit = num % 10\n",
    "        reversed_num = reversed_num * 10 + digit\n",
    "        num //= 10\n",
    "    return reversed_num\n",
    "\n",
    "\n",
    "num = int(input(\"Enter a number: \"))\n",
    "reversed_num = reverse_number(num)\n",
    "print(\"Reversed number: \", reversed_num)"
   ]
  },
  {
   "cell_type": "code",
   "execution_count": 22,
   "id": "1e21d459-ffd2-46b6-9878-21cadb93d100",
   "metadata": {},
   "outputs": [
    {
     "name": "stdout",
     "output_type": "stream",
     "text": [
      "Enter a number to check if it's prime:  13\n"
     ]
    },
    {
     "name": "stdout",
     "output_type": "stream",
     "text": [
      "13 is a prime number.\n"
     ]
    }
   ],
   "source": [
    "#Write a program for prime numbers. \n",
    "def is_prime(num):\n",
    "    if num <= 1:\n",
    "        return False\n",
    "    elif num == 2:\n",
    "        return True\n",
    "    elif num % 2 == 0:\n",
    "        return False\n",
    "    else:\n",
    "        for i in range(3, int(num ** 0.5) + 1, 2):\n",
    "            if num % i == 0:\n",
    "                return False\n",
    "        return True\n",
    "\n",
    "num = int(input(\"Enter a number to check if it's prime: \"))\n",
    "if is_prime(num):\n",
    "    print(num, \"is a prime number.\")\n",
    "else:\n",
    "    print(num, \"is not a prime number.\")\n"
   ]
  },
  {
   "cell_type": "code",
   "execution_count": 25,
   "id": "27a82e0c-f08c-44ad-bd1a-09947cf79e9c",
   "metadata": {},
   "outputs": [
    {
     "name": "stdout",
     "output_type": "stream",
     "text": [
      "Enter a number to find its factorial:  24\n"
     ]
    },
    {
     "name": "stdout",
     "output_type": "stream",
     "text": [
      "Factorial of 24 is 620448401733239439360000\n"
     ]
    }
   ],
   "source": [
    "#Write a program to find the factorial of a number.\n",
    "def factorial(n):\n",
    "    if n == 0:\n",
    "        return 1\n",
    "    else:\n",
    "        return n*factorial(n-1)\n",
    "\n",
    "num = int(input(\"Enter a number to find its factorial: \"))\n",
    "if num < 0:\n",
    "    print(\"Factorial is not defined for negative numbers.\")\n",
    "else:\n",
    "    print(\"Factorial of\", num, \"is\", factorial(num))\n"
   ]
  },
  {
   "cell_type": "code",
   "execution_count": null,
   "id": "5ffe3b60-dae6-4fd1-8a9f-7084501074fa",
   "metadata": {},
   "outputs": [],
   "source": []
  }
 ],
 "metadata": {
  "kernelspec": {
   "display_name": "Python 3 (ipykernel)",
   "language": "python",
   "name": "python3"
  },
  "language_info": {
   "codemirror_mode": {
    "name": "ipython",
    "version": 3
   },
   "file_extension": ".py",
   "mimetype": "text/x-python",
   "name": "python",
   "nbconvert_exporter": "python",
   "pygments_lexer": "ipython3",
   "version": "3.12.3"
  }
 },
 "nbformat": 4,
 "nbformat_minor": 5
}

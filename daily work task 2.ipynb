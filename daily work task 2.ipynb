{
 "cells": [
  {
   "cell_type": "code",
   "execution_count": 5,
   "id": "11aefc1a-3c37-43ad-ac76-71ce730261a1",
   "metadata": {},
   "outputs": [
    {
     "name": "stdout",
     "output_type": "stream",
     "text": [
      "Warning: Non-numeric value 'a' found in the list. Skipping.\n",
      "Warning: Non-numeric value 'b' found in the list. Skipping.\n",
      "The sum of all elements in the list is: 15\n"
     ]
    }
   ],
   "source": [
    "# Write a Python program to find the sum of all elements in a list and handle the case where the list contains non-numeric values.\n",
    "def sum_of_list(lst):\n",
    "    total = 0\n",
    "    for item in lst:\n",
    "        if isinstance(item, (int, float)):\n",
    "            total += item\n",
    "        else:\n",
    "            print(\"Warning: Non-numeric value '{}' found in the list. Skipping.\".format(item))\n",
    "    return total\n",
    "\n",
    "my_list = [1 , 2, 'a','b',3,4,5]\n",
    "print(\"The sum of all elements in the list is:\", sum_of_list(my_list))\n"
   ]
  },
  {
   "cell_type": "code",
   "execution_count": 11,
   "id": "f09e448a-0629-466e-a77f-66ebb0ed1572",
   "metadata": {},
   "outputs": [
    {
     "name": "stdout",
     "output_type": "stream",
     "text": [
      "The average grade is: 86.25\n"
     ]
    }
   ],
   "source": [
    "#Create a Dictionary containing the names of students and their corresponding grades. Write a program to calculate the average grade and handle the case where the Dictionary is empty.\n",
    "def calculate_average_grade(grades_dict):\n",
    "    if not grades_dict:\n",
    "        print(\"The dictionary is empty.\")\n",
    "        return None\n",
    "    total_grade = sum(grades_dict.values())\n",
    "    average_grade = total_grade / len(grades_dict)\n",
    "    return average_grade\n",
    "\n",
    "\n",
    "student_grades = {'Alice': 85, 'Bob': 90, 'Charlie': 78, 'David': 92}\n",
    "\n",
    "average = calculate_average_grade(student_grades)\n",
    "if average is not None:\n",
    "    print(\"The average grade is:\", average)\n"
   ]
  },
  {
   "cell_type": "code",
   "execution_count": 16,
   "id": "4a18d8de-51d7-4813-985b-6303e5d7f8a7",
   "metadata": {},
   "outputs": [
    {
     "name": "stdout",
     "output_type": "stream",
     "text": [
      "{'sneha': 87, 'sony': 90, 'sushma': 78, 'krishna': 92}\n",
      "The average grade is: 86.75\n"
     ]
    }
   ],
   "source": [
    "#Create a Dictionary containing the names of students and their corresponding grades. Write a program to calculate the average grade and handle the case where the Dictionary is empty.\n",
    "def calculate_average_grade(grades_dict):\n",
    "    if not grades_dict:\n",
    "        print(\"The dictionary is empty.\")\n",
    "        return None\n",
    "    total_grade = sum(grades_dict.values())\n",
    "    average_grade = total_grade / len(grades_dict)\n",
    "    return average_grade\n",
    "\n",
    "\n",
    "student_grades = {'sneha':87, 'sony': 90, 'sushma': 78, 'krishna': 92}\n",
    "print(student_grades)\n",
    "\n",
    "average = calculate_average_grade(student_grades)\n",
    "if average is not None:\n",
    "    print(\"The average grade is:\", average)\n"
   ]
  }
 ],
 "metadata": {
  "kernelspec": {
   "display_name": "Python 3 (ipykernel)",
   "language": "python",
   "name": "python3"
  },
  "language_info": {
   "codemirror_mode": {
    "name": "ipython",
    "version": 3
   },
   "file_extension": ".py",
   "mimetype": "text/x-python",
   "name": "python",
   "nbconvert_exporter": "python",
   "pygments_lexer": "ipython3",
   "version": "3.12.3"
  }
 },
 "nbformat": 4,
 "nbformat_minor": 5
}

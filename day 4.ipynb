{
 "cells": [
  {
   "cell_type": "code",
   "execution_count": null,
   "id": "6faf8463-92e0-4200-9fbe-c4675c2d294d",
   "metadata": {},
   "outputs": [],
   "source": [
    "import os\n",
    "def create_file(filename):\n",
    "    try :\n",
    "        with open(filename,'w') as f:\n",
    "            print(\"hello world\"  +\n",
    "            "
   ]
  },
  {
   "cell_type": "code",
   "execution_count": null,
   "id": "5d756f6c-9a57-468e-81ea-979165ff3d22",
   "metadata": {},
   "outputs": [],
   "source": [
    "if __name__== __'main __':\n",
    "filename"
   ]
  },
  {
   "cell_type": "code",
   "execution_count": 42,
   "id": "3eb01574-b1da-4efd-ac95-79adf09c75dc",
   "metadata": {},
   "outputs": [],
   "source": [
    "import os\n",
    "\n",
    "with open(\"file.txt\",'w') as f:\n",
    "    f.write(\"this is the first text\\n\")\n",
    "    f.close()\n",
    "    \n",
    "    \n",
    "    \n",
    "    "
   ]
  },
  {
   "cell_type": "code",
   "execution_count": 3,
   "id": "efa66858-6b6d-4352-a514-66f223bfbc31",
   "metadata": {},
   "outputs": [],
   "source": [
    "import os\n",
    "\n",
    "with open(\"file1.txt\",'a') as f:\n",
    "    f.write(\"this is the second text\\n\")\n",
    "    "
   ]
  },
  {
   "cell_type": "code",
   "execution_count": 53,
   "id": "2ba84e2c-cdfb-4b6d-b27b-37eb3758ef48",
   "metadata": {},
   "outputs": [],
   "source": [
    "import os\n",
    "\n",
    "os.remove(\"file1.txt\")\n"
   ]
  },
  {
   "cell_type": "code",
   "execution_count": 52,
   "id": "b3d635c9-6a1d-47d7-916d-04649ae94c61",
   "metadata": {},
   "outputs": [
    {
     "name": "stdout",
     "output_type": "stream",
     "text": [
      "this is the first text\n",
      "111\n"
     ]
    }
   ],
   "source": [
    "import os\n",
    "with open(\"file.txt\",'r')  as f:\n",
    "    for a in f.read().split(\"\\n\"):\n",
    "        print(a)\n",
    "        print(\"111\")\n",
    "        \n",
    "    f.close()"
   ]
  },
  {
   "cell_type": "markdown",
   "id": "93e1f253-827c-4713-bceb-840a68b81d44",
   "metadata": {},
   "source": [
    "w:write\n",
    "r:read\n",
    "a:append\n",
    "w+:write and read\n",
    "r+:read and write\n",
    "a+:append and read"
   ]
  },
  {
   "cell_type": "code",
   "execution_count": 1,
   "id": "d2b7690b-36cd-45ec-a239-2b0d12721ad7",
   "metadata": {},
   "outputs": [
    {
     "name": "stdin",
     "output_type": "stream",
     "text": [
      "enter the fruits name apple banana mango grapes \n"
     ]
    }
   ],
   "source": [
    "import os\n",
    "with open(\"fruitname.txt\",'w')  as f:\n",
    "    fruits=[x for x in input(\"enter the fruits name\")]\n",
    "    for fruit in fruits:\n",
    "        f.write(fruit)\n",
    "    f.close()\n",
    "\n",
    "\n",
    "    \n",
    "        \n",
    "    \n",
    "    \n",
    "    \n",
    "\n",
    "    "
   ]
  },
  {
   "cell_type": "code",
   "execution_count": null,
   "id": "532c986f-c373-4427-8c39-b20e64e50275",
   "metadata": {},
   "outputs": [
    {
     "name": "stdout",
     "output_type": "stream",
     "text": [
      "a\n",
      "p\n",
      "p\n",
      "l\n",
      "e\n",
      " \n",
      "o\n",
      "r\n",
      "a\n",
      "n\n",
      "g\n",
      "e\n",
      " \n",
      "b\n",
      "a\n",
      "n\n",
      "a\n",
      "n\n",
      "a\n",
      " \n",
      "c\n",
      "h\n",
      "e\n",
      "r\n",
      "r\n",
      "y\n",
      "\n"
     ]
    }
   ],
   "source": [
    "import os \n",
    "with open(\"fruitname.txt\",'r') as f:\n",
    "    x=f.read()\n",
    "    print(x)\n",
    "    a=input(\"enter the name you want to replace the fruit\")\n",
    "    b=input(\"enter the new fruit\")\n",
    "    x=x.replace(a,b)\n",
    "    f.close()\n",
    "with open(\"fruitname.txt\",'r+') as f:\n",
    "    f.write(x)\n",
    "    f.close()\n",
    "    \n",
    "    \n",
    "\n",
    "        \n",
    "    "
   ]
  },
  {
   "cell_type": "code",
   "execution_count": 4,
   "id": "542990f3-13f5-4b5d-92be-6c199d58dd0a",
   "metadata": {},
   "outputs": [],
   "source": [
    "import os\n",
    "os.remove(\"fruitname.txt\")"
   ]
  },
  {
   "cell_type": "code",
   "execution_count": null,
   "id": "f7de718c-e99f-41f5-9118-b2f05a12ad4e",
   "metadata": {},
   "outputs": [],
   "source": []
  }
 ],
 "metadata": {
  "kernelspec": {
   "display_name": "Python 3 (ipykernel)",
   "language": "python",
   "name": "python3"
  },
  "language_info": {
   "codemirror_mode": {
    "name": "ipython",
    "version": 3
   },
   "file_extension": ".py",
   "mimetype": "text/x-python",
   "name": "python",
   "nbconvert_exporter": "python",
   "pygments_lexer": "ipython3",
   "version": "3.12.3"
  }
 },
 "nbformat": 4,
 "nbformat_minor": 5
}

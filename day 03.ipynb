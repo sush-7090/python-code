{
 "cells": [
  {
   "cell_type": "code",
   "execution_count": 9,
   "id": "97de51b3-5f99-427c-99fd-4a41e53ac44c",
   "metadata": {},
   "outputs": [
    {
     "name": "stdout",
     "output_type": "stream",
     "text": [
      "0\n",
      "1\n",
      "2\n",
      "3\n",
      "4\n"
     ]
    }
   ],
   "source": [
    "x=[0,1,2,3,4]\n",
    "for a in range(0,5):\n",
    "    print(x[a])"
   ]
  },
  {
   "cell_type": "code",
   "execution_count": 7,
   "id": "2f9546c2-d0f9-466b-a3f8-f99deeea6727",
   "metadata": {},
   "outputs": [
    {
     "name": "stdin",
     "output_type": "stream",
     "text": [
      "enter the no of rows 2\n",
      "enter the no of coloumns 5\n"
     ]
    },
    {
     "name": "stdout",
     "output_type": "stream",
     "text": [
      "0 0 1 0 2 0 0 1 1 1 2 1 0 2 1 2 2 2 0 3 1 3 2 3 0 4 1 4 2 4 0 5 1 5 2 5 "
     ]
    }
   ],
   "source": [
    "x=int(input(\"enter the no of rows\"))\n",
    "y=int(input(\"enter the no of coloumns\"))\n",
    "for y in range(0,y+1):\n",
    "    for x in range(0,x+1):\n",
    "        print(x,y, end=\" \")\n",
    "    print()\n",
    "    "
   ]
  },
  {
   "cell_type": "markdown",
   "id": "e1834bbb-f7d1-44c8-ad95-de87bd866fee",
   "metadata": {},
   "source": [
    "pop to pull out element of list \n",
    "sort use to sort the list\n",
    "def copy =\n",
    "def append =append object t the end of the list\n",
    "def exetend=extesd list by appending elements from the iterable \n",
    "def pop= remove and return item at the index(defult list)\n",
    "         raises index error if list is mpty or index is not of range\n",
    "\n",
    "def count= return number of occurences of value \n",
    "definsert= inseert the object before index\n",
    "def remove = remove first occurence of value\n",
    "def sort= sort the list in ascending order and return none\n",
    "*len(list)=name of the list\n",
    "\n"
   ]
  },
  {
   "cell_type": "code",
   "execution_count": 1,
   "id": "3fb851bb-aa44-4d51-b199-d42d31dc14a2",
   "metadata": {},
   "outputs": [
    {
     "name": "stdout",
     "output_type": "stream",
     "text": [
      "[1, 2, 3, 4]\n",
      "4\n",
      "[1, 2, 3]\n",
      "[1, 2, 3, 10]\n",
      "2\n",
      "1\n",
      "0\n",
      "[1, 2, 3, 10, 9]\n",
      "[1, 2, 10, 9]\n",
      "[1, 2, 9, 10]\n",
      "[10, 9, 2, 1]\n",
      "4\n",
      "[10, 9, 2, 1, 1, 2, 3, 4]\n",
      "[10, 9, 2, 1, 1, 2, 3, 4, 1, 2, 3, 4]\n"
     ]
    }
   ],
   "source": [
    "a=[1,2,3,4]\n",
    "b=a.copy()\n",
    "print(b)\n",
    "\n",
    "c=b.pop(3)\n",
    "print(c)\n",
    "\n",
    "print(b)\n",
    "b.append(10)\n",
    "print(b)\n",
    "\n",
    "print(b.index(3))\n",
    "\n",
    "print(b.count(3))\n",
    "print(b.count(11))\n",
    "b.insert(4,9)\n",
    "print(b)\n",
    "\n",
    "b.remove(3)\n",
    "print(b)\n",
    "b.sort()\n",
    "print(b)\n",
    "b.sort(reverse=True)\n",
    "print(b)\n",
    "\n",
    "print(len(b))\n",
    "\n",
    "b.extend(a)\n",
    "print(b)\n",
    "print(b+a)"
   ]
  },
  {
   "cell_type": "code",
   "execution_count": 3,
   "id": "fa173573-e663-41f1-b6cb-2b6436974338",
   "metadata": {},
   "outputs": [
    {
     "name": "stdout",
     "output_type": "stream",
     "text": [
      "1\n",
      "1\n",
      "1\n",
      "2\n",
      "2\n",
      "2\n",
      "3\n",
      "3\n",
      "4\n",
      "4\n",
      "9\n",
      "10\n"
     ]
    }
   ],
   "source": [
    "a=[10, 9, 2, 1, 1, 2, 3, 4, 1, 2, 3, 4]\n",
    "a.sort()\n",
    "for x in a:\n",
    "    print(x)\n",
    "    "
   ]
  },
  {
   "cell_type": "code",
   "execution_count": 12,
   "id": "d355b977-9c5b-4d87-9f90-1e0a4e21fc62",
   "metadata": {},
   "outputs": [
    {
     "name": "stdin",
     "output_type": "stream",
     "text": [
      "enter the no of elements 5\n",
      " 2\n",
      " 3\n",
      " 4\n",
      " 5\n",
      " 6\n"
     ]
    },
    {
     "name": "stdout",
     "output_type": "stream",
     "text": [
      "['2', '3', '4', '5', '6']\n"
     ]
    }
   ],
   "source": [
    "n=int(input(\"enter the no of elements\"))\n",
    "a=[]\n",
    "for x in range(0,n):\n",
    "    x=input()\n",
    "    a.append(x)\n",
    "print(a)"
   ]
  },
  {
   "cell_type": "code",
   "execution_count": 14,
   "id": "a52717ec-8a00-4429-8580-c589016a3d91",
   "metadata": {},
   "outputs": [
    {
     "name": "stdin",
     "output_type": "stream",
     "text": [
      "enter the elements of the list: 1 2 3 4 5 6\n"
     ]
    },
    {
     "name": "stdout",
     "output_type": "stream",
     "text": [
      "[1, 2, 3, 4, 5, 6]\n"
     ]
    }
   ],
   "source": [
    "L=[int(item) for item in (input(\"enter the elements of the list:\")).split()]\n",
    "print(L)"
   ]
  },
  {
   "cell_type": "code",
   "execution_count": null,
   "id": "7928c66c-4916-464d-a63a-71fce6e81dc2",
   "metadata": {},
   "outputs": [],
   "source": [
    "L=[item for item in (input(\"enter the elements of the list:\")).split()]\n",
    "print(L)"
   ]
  },
  {
   "cell_type": "code",
   "execution_count": 21,
   "id": "2cb93af4-5fc9-4dcd-89e2-88d43475c42c",
   "metadata": {},
   "outputs": [
    {
     "name": "stdout",
     "output_type": "stream",
     "text": [
      "[1, 2, 3, 4, 5]\n",
      "5\n",
      "4\n",
      "3\n",
      "2\n",
      "1\n"
     ]
    }
   ],
   "source": [
    "#reversing the list without using any function\n",
    "a=[1,2,3,4,5]\n",
    "print(a)\n",
    "for x in range(0-1,-1*(len(a)+1),-1):\n",
    "    print(a[x])"
   ]
  },
  {
   "cell_type": "code",
   "execution_count": 22,
   "id": "ad39a28b-228b-44c6-a796-8df06be4e3d6",
   "metadata": {},
   "outputs": [
    {
     "name": "stdout",
     "output_type": "stream",
     "text": [
      "(1, 2, 3, 4, 5, 6, 7, 8, 9, 10)\n",
      "10\n",
      "9\n",
      "8\n",
      "7\n",
      "6\n",
      "5\n",
      "4\n",
      "3\n",
      "2\n",
      "1\n"
     ]
    }
   ],
   "source": [
    "#reversing the tuple without using any function\n",
    "a=(1,2,3,4,5,6,7,8,9,10)\n",
    "print(a)\n",
    "for x in range(0-1,-1*(len(a)+1),-1):\n",
    "    print(a[x])"
   ]
  },
  {
   "cell_type": "code",
   "execution_count": 27,
   "id": "ca25c175-d9b4-41b8-84e8-d1fa7577b8ce",
   "metadata": {},
   "outputs": [
    {
     "name": "stdout",
     "output_type": "stream",
     "text": [
      "(1, 2, 3, 4, 5, 6, 7, 8, 9, 10)\n",
      "2\n",
      "3\n",
      "4\n",
      "5\n",
      "6\n",
      "7\n",
      "8\n",
      "9\n"
     ]
    }
   ],
   "source": [
    "a=(1,2,3,4,5,6,7,8,9,10 )\n",
    "print(a)\n",
    "for x in range(0+1,1*(len(a)-1),1):\n",
    "    print(a[x])"
   ]
  },
  {
   "cell_type": "code",
   "execution_count": 28,
   "id": "9b215ced-4d35-4c56-a45b-2b9a8e8a3752",
   "metadata": {},
   "outputs": [
    {
     "name": "stdout",
     "output_type": "stream",
     "text": [
      "(1, 2, 3, 4, 5, 6, 7, 8, 9, 10)\n",
      "10\n",
      "9\n",
      "8\n",
      "7\n",
      "6\n",
      "5\n",
      "4\n",
      "3\n",
      "2\n",
      "1\n"
     ]
    }
   ],
   "source": [
    "a=(1,2,3,4,5,6,7,8,9,10)\n",
    "print(a)\n",
    "for x in range(0,len(a)):\n",
    "    print(a[-1*(x+1)])"
   ]
  },
  {
   "cell_type": "markdown",
   "id": "4cf2fb82-7ba9-4633-88b4-a9a270308caa",
   "metadata": {},
   "source": [
    "dictionary :-\n",
    "is a set of values and keys\n",
    "* keys values pair\n",
    "* item function will give the value"
   ]
  },
  {
   "cell_type": "code",
   "execution_count": 33,
   "id": "66988462-988e-49a4-b746-b6e294c3da46",
   "metadata": {},
   "outputs": [
    {
     "name": "stdout",
     "output_type": "stream",
     "text": [
      "{1: 'sony', 2: 'ghf', 3: 'abcd'}\n",
      "ghf\n",
      "dict_keys([1, 2, 3])\n",
      "dict_values(['sony', 'ghf', 'abcd'])\n",
      "dict_items([(1, 'sony'), (2, 'ghf'), (3, 'abcd')])\n"
     ]
    }
   ],
   "source": [
    "D={1:\"sony\",2:\"sushma\",3:\"abcd\", 2: \"ghf\"}\n",
    "print(D)\n",
    "print(D[2])\n",
    "print(D.keys())\n",
    "print(D.values())\n",
    "print(D.items())"
   ]
  },
  {
   "cell_type": "code",
   "execution_count": 3,
   "id": "cd3d2a4c-31f4-4c17-9823-5e2d5b55ff4f",
   "metadata": {},
   "outputs": [
    {
     "name": "stdin",
     "output_type": "stream",
     "text": [
      "enter the  key 5\n",
      "enter the value 3\n"
     ]
    },
    {
     "name": "stdout",
     "output_type": "stream",
     "text": [
      "key is already not  exits\n",
      "{1: 'sony', 2: 'ghf', 3: 'abcd'}\n"
     ]
    }
   ],
   "source": [
    "#write a program to take a key and value from the user and add it the dictornary if key is not present in the dictnarty other wise key is already exits and return the value \n",
    "\n",
    "\n",
    "key=input(\"enter the  key\")\n",
    "value=int(input(\"enter the value\"))\n",
    "D={1:\"sony\",2:\"sushma\",3:\"abcd\", 2: \"ghf\"}\n",
    "if D!=key :\n",
    "    print(\"key is already not  exits\")\n",
    "    print(D)\n",
    "else:\n",
    "    print(\"key is exits\")\n",
    "\n",
    " "
   ]
  },
  {
   "cell_type": "code",
   "execution_count": 5,
   "id": "778b5511-6049-478f-98f7-ef2c56cc4617",
   "metadata": {},
   "outputs": [
    {
     "name": "stdin",
     "output_type": "stream",
     "text": [
      " 2\n",
      " 4\n"
     ]
    },
    {
     "name": "stdout",
     "output_type": "stream",
     "text": [
      "division successfull\n",
      "0.5\n",
      "Error handelled\n",
      "we have recevied the result as: 0.5\n"
     ]
    }
   ],
   "source": [
    "A=int(input())\n",
    "B=int(input())\n",
    "try:\n",
    "    c=A/B\n",
    "except:\n",
    "    print(\"we can't divied the number\")\n",
    "    print(c)\n",
    "else:\n",
    "     print(\"division successfull\")\n",
    "     print(c)\n",
    "finally:\n",
    "    print(\"Error handelled\")\n",
    "    \n",
    "print(\"we have recevied the result as:\",c)\n",
    "  \n",
    "    \n",
    "    \n",
    "\n"
   ]
  },
  {
   "cell_type": "code",
   "execution_count": 10,
   "id": "9fb6fa01-bee9-4cc8-ad66-7ea5e992291b",
   "metadata": {},
   "outputs": [
    {
     "name": "stdin",
     "output_type": "stream",
     "text": [
      "enter the indext value 7\n"
     ]
    },
    {
     "name": "stdout",
     "output_type": "stream",
     "text": [
      "the number was found\n",
      "8\n"
     ]
    }
   ],
   "source": [
    "a=[1,2,3,4,5,6,7,8,9]\n",
    "i=int(input(\"enter the indext value\"))\n",
    "try:\n",
    "    c=a[i]\n",
    "except:\n",
    "    print(\"the number was not found\")\n",
    "else:\n",
    "    print(\"the number was found\")\n",
    "    print(a[i])\n"
   ]
  },
  {
   "cell_type": "code",
   "execution_count": 5,
   "id": "ac804127-0b95-4555-b77d-cbe7c62f40db",
   "metadata": {},
   "outputs": [
    {
     "name": "stdin",
     "output_type": "stream",
     "text": [
      " 3\n",
      " 4\n"
     ]
    },
    {
     "name": "stdout",
     "output_type": "stream",
     "text": [
      "Some unknown Error found\n",
      "Code Execution done\n"
     ]
    }
   ],
   "source": [
    "try:\n",
    "    a=input()\n",
    "    b=input()\n",
    "    c=int(a)/int(b)\n",
    "    x=\"hello\"/3\n",
    "except ValueError:\n",
    "    print(\"value unable to convert\")\n",
    "except ZeroDivisionError:\n",
    "    print(\"Can't divide by zero\")\n",
    "except:\n",
    "    print(\"Some unknown Error found\")\n",
    "else:\n",
    "    print(\"No Errror\")\n",
    "finally:\n",
    "    print(\"Code Execution done\")\n",
    "    "
   ]
  },
  {
   "cell_type": "code",
   "execution_count": null,
   "id": "8fcaffbd-e40a-469e-a465-87379bbb1a95",
   "metadata": {},
   "outputs": [],
   "source": []
  }
 ],
 "metadata": {
  "kernelspec": {
   "display_name": "Python 3 (ipykernel)",
   "language": "python",
   "name": "python3"
  },
  "language_info": {
   "codemirror_mode": {
    "name": "ipython",
    "version": 3
   },
   "file_extension": ".py",
   "mimetype": "text/x-python",
   "name": "python",
   "nbconvert_exporter": "python",
   "pygments_lexer": "ipython3",
   "version": "3.12.3"
  }
 },
 "nbformat": 4,
 "nbformat_minor": 5
}

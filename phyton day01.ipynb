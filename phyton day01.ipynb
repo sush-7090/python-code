{
 "cells": [
  {
   "cell_type": "code",
   "execution_count": 1,
   "id": "b7cba9d6-5987-4f38-b537-3f926a8d2579",
   "metadata": {},
   "outputs": [
    {
     "name": "stdout",
     "output_type": "stream",
     "text": [
      "hello\n",
      "hi\n"
     ]
    }
   ],
   "source": [
    "print(\"hello\")\n",
    "print(\"hi\")"
   ]
  },
  {
   "cell_type": "code",
   "execution_count": 9,
   "id": "d40fdcb4-0716-49da-89f8-4913bb48f137",
   "metadata": {},
   "outputs": [
    {
     "name": "stdout",
     "output_type": "stream",
     "text": [
      "(2, 3)\n",
      "<class 'tuple'>\n",
      "5.5\n",
      "<class 'float'>\n",
      "s\n",
      "<class 'str'>\n",
      "hi\n",
      "<class 'str'>\n",
      "{3, 4}\n",
      "<class 'set'>\n",
      "[5, 4]\n",
      "<class 'list'>\n",
      "range(3, 6)\n",
      "<class 'range'>\n",
      "{'sushma': 161}\n",
      "<class 'dict'>\n"
     ]
    }
   ],
   "source": [
    "a=(2,3)\n",
    "print(a)\n",
    "print(type(a))\n",
    "\n",
    "a=5.5\n",
    "print(a)\n",
    "print(type(a))\n",
    "\n",
    "a=\"s\"\n",
    "print(a)\n",
    "print(type(a))\n",
    "\n",
    "a=\"hi\"\n",
    "print(a)\n",
    "print(type(a))\n",
    "\n",
    "a={3,4}\n",
    "print(a)\n",
    "print(type(a))\n",
    "\n",
    "a=[5,4]\n",
    "print(a)\n",
    "print(type(a))\n",
    "\n",
    "a=range(3,6)\n",
    "print(a)\n",
    "print(type(a))\n",
    "\n",
    "a=dict={\"sushma\":161}\n",
    "print(a)\n",
    "print(type(a))"
   ]
  },
  {
   "cell_type": "code",
   "execution_count": 1,
   "id": "c98b2e07-aece-4352-b297-f2643ea4cfbe",
   "metadata": {},
   "outputs": [
    {
     "name": "stdout",
     "output_type": "stream",
     "text": [
      "161\n",
      "161\n",
      "161\n"
     ]
    }
   ],
   "source": [
    "a=b=c=161\n",
    "print(a)\n",
    "print(b)\n",
    "print(c)"
   ]
  },
  {
   "cell_type": "code",
   "execution_count": 2,
   "id": "bf75afc3-2709-49ad-a3d7-1cc873a5f8d7",
   "metadata": {},
   "outputs": [
    {
     "name": "stdout",
     "output_type": "stream",
     "text": [
      "24\n",
      "23\n"
     ]
    }
   ],
   "source": [
    "a=23\n",
    "b=24\n",
    "c=a\n",
    "a=b\n",
    "b=c\n",
    "print(a)\n",
    "print(b)"
   ]
  },
  {
   "cell_type": "code",
   "execution_count": 3,
   "id": "f69aea97-91c6-4be2-a804-def13b6e74ff",
   "metadata": {},
   "outputs": [
    {
     "name": "stdout",
     "output_type": "stream",
     "text": [
      "sony sushma sneha mnop\n",
      "sonysushmasnehamnop\n"
     ]
    }
   ],
   "source": [
    "a=\"sony\"\n",
    "b=\"sushma\"\n",
    "c=\"sneha\"\n",
    "print(a,b,c,\"mnop\")\n",
    "print(a+b+c+\"mnop\")"
   ]
  },
  {
   "cell_type": "code",
   "execution_count": 1,
   "id": "0650da97-2d67-4b6d-a3ea-c569a7f964d7",
   "metadata": {},
   "outputs": [
    {
     "name": "stdin",
     "output_type": "stream",
     "text": [
      " 2\n",
      " 3\n"
     ]
    },
    {
     "name": "stdout",
     "output_type": "stream",
     "text": [
      "5\n",
      "<class 'int'>\n",
      "<class 'int'>\n",
      "<class 'int'>\n"
     ]
    }
   ],
   "source": [
    "a=int(input())\n",
    "b=int(input())\n",
    "c=int(a)+int(b)\n",
    "print(c)\n",
    "print(type(a))\n",
    "print(type(b))\n",
    "print(type(c))"
   ]
  },
  {
   "cell_type": "code",
   "execution_count": 3,
   "id": "f6a84cc2-cfd8-492b-b06a-f535a6741099",
   "metadata": {},
   "outputs": [
    {
     "name": "stdin",
     "output_type": "stream",
     "text": [
      "enter first number: 2\n",
      "enter second number: 3\n"
     ]
    },
    {
     "name": "stdout",
     "output_type": "stream",
     "text": [
      "5\n"
     ]
    }
   ],
   "source": [
    "a=int(input(\"enter first number:\"))\n",
    "b=int(input(\"enter second number:\"))\n",
    "c=a+b\n",
    "print(c)"
   ]
  },
  {
   "cell_type": "code",
   "execution_count": 6,
   "id": "ab9a9636-f9b2-444d-8c08-da7e433db22c",
   "metadata": {},
   "outputs": [
    {
     "name": "stdin",
     "output_type": "stream",
     "text": [
      "enter three no: 1 2 3\n"
     ]
    },
    {
     "name": "stdout",
     "output_type": "stream",
     "text": [
      "6\n"
     ]
    }
   ],
   "source": [
    "a,b,c=input(\"enter three no:\").split()\n",
    "d=int(a)+int(b)+int(c)\n",
    "print(d)\n"
   ]
  },
  {
   "cell_type": "code",
   "execution_count": 9,
   "id": "96c8c5cd-c518-4a13-ba68-980cfc5b832d",
   "metadata": {},
   "outputs": [
    {
     "name": "stdin",
     "output_type": "stream",
     "text": [
      "enter three no: 3 4 1.0\n"
     ]
    },
    {
     "name": "stdout",
     "output_type": "stream",
     "text": [
      "12.0\n"
     ]
    }
   ],
   "source": [
    "a,b,c=input(\"enter three no:\").split()\n",
    "d=int(a)*int(b)*float(c)\n",
    "print(d)"
   ]
  },
  {
   "cell_type": "code",
   "execution_count": 15,
   "id": "02c78120-56ed-4729-b064-59914ced2503",
   "metadata": {},
   "outputs": [
    {
     "name": "stdin",
     "output_type": "stream",
     "text": [
      "enter two no: 3 6\n"
     ]
    },
    {
     "name": "stdout",
     "output_type": "stream",
     "text": [
      "3.0\n"
     ]
    }
   ],
   "source": [
    "a,b=input(\"enter two no:\").split()\n",
    "d=int(a)%float(b)\n",
    "print(d)"
   ]
  },
  {
   "cell_type": "code",
   "execution_count": 12,
   "id": "1719c206-599a-4324-8dee-372ac0f2e2c2",
   "metadata": {},
   "outputs": [
    {
     "name": "stdin",
     "output_type": "stream",
     "text": [
      "enter three no: 2 3 4\n"
     ]
    },
    {
     "name": "stdout",
     "output_type": "stream",
     "text": [
      "0.16666666666666666\n"
     ]
    }
   ],
   "source": [
    "a,b,c=input(\"enter three no:\").split()\n",
    "d=int(a)/int(b)/float(c)\n",
    "print(d)"
   ]
  },
  {
   "cell_type": "code",
   "execution_count": 3,
   "id": "a5e7fc9e-9f2a-4777-a4d3-185b72d56442",
   "metadata": {},
   "outputs": [
    {
     "name": "stdin",
     "output_type": "stream",
     "text": [
      "enter three no: 1 hjk 34\n"
     ]
    },
    {
     "ename": "ValueError",
     "evalue": "invalid literal for int() with base 10: 'hjk'",
     "output_type": "error",
     "traceback": [
      "\u001b[1;31m---------------------------------------------------------------------------\u001b[0m",
      "\u001b[1;31mValueError\u001b[0m                                Traceback (most recent call last)",
      "Cell \u001b[1;32mIn[3], line 2\u001b[0m\n\u001b[0;32m      1\u001b[0m a,b,c\u001b[38;5;241m=\u001b[39m\u001b[38;5;28minput\u001b[39m(\u001b[38;5;124m\"\u001b[39m\u001b[38;5;124menter three no:\u001b[39m\u001b[38;5;124m\"\u001b[39m)\u001b[38;5;241m.\u001b[39msplit()\n\u001b[1;32m----> 2\u001b[0m d\u001b[38;5;241m=\u001b[39m\u001b[38;5;28mint\u001b[39m(a)\u001b[38;5;241m+\u001b[39m\u001b[38;5;28;43mint\u001b[39;49m\u001b[43m(\u001b[49m\u001b[43mb\u001b[49m\u001b[43m)\u001b[49m\u001b[38;5;241m+\u001b[39m\u001b[38;5;28mint\u001b[39m(c)\n\u001b[0;32m      3\u001b[0m \u001b[38;5;28mprint\u001b[39m(d)\n",
      "\u001b[1;31mValueError\u001b[0m: invalid literal for int() with base 10: 'hjk'"
     ]
    }
   ],
   "source": [
    "a,b,c=input(\"enter three no:\").split()\n",
    "d=int(a)+int(b)+int(c)\n",
    "print(d)"
   ]
  },
  {
   "cell_type": "code",
   "execution_count": 1,
   "id": "e902dbb4-2822-4314-8748-5aa0540bdf53",
   "metadata": {},
   "outputs": [
    {
     "name": "stdin",
     "output_type": "stream",
     "text": [
      " #\n"
     ]
    },
    {
     "name": "stdout",
     "output_type": "stream",
     "text": [
      "a is special case\n"
     ]
    }
   ],
   "source": [
    "a=input()\n",
    "if a.isupper():\n",
    "    print(\"a is in the upper case\")\n",
    "elif a.islower():\n",
    "    print(\"a is i lower case\")\n",
    "elif a.isnumeric():\n",
    "    print(\"a is numeric\")\n",
    "else:\n",
    "    print(\"a is special case\")\n",
    "    \n",
    "    "
   ]
  },
  {
   "cell_type": "code",
   "execution_count": 4,
   "id": "d355bc10-f542-4a31-b619-a59502c0907a",
   "metadata": {},
   "outputs": [
    {
     "name": "stdin",
     "output_type": "stream",
     "text": [
      " abcba\n"
     ]
    },
    {
     "name": "stdout",
     "output_type": "stream",
     "text": [
      "is pallindrome\n"
     ]
    }
   ],
   "source": [
    "a=input()\n",
    "flag = 0\n",
    "for i in range (0,int(len(a)/2)):\n",
    "    if a[i] != a[(i+1)*-1]:\n",
    "        flag = 1\n",
    "        break\n",
    "if flag:\n",
    "    print(\"not pallindrome\")\n",
    "else:\n",
    "    print(\"is pallindrome\")"
   ]
  },
  {
   "cell_type": "code",
   "execution_count": 9,
   "id": "b864bc3a-b149-4324-af0a-e78a1d7a7c0b",
   "metadata": {},
   "outputs": [
    {
     "name": "stdin",
     "output_type": "stream",
     "text": [
      "enter the number 2\n"
     ]
    },
    {
     "name": "stdout",
     "output_type": "stream",
     "text": [
      "is a prime no\n"
     ]
    }
   ],
   "source": [
    "n=int(input(\"enter the number\"))\n",
    "flag=0\n",
    "\n",
    "for x in range (2,int(n/2+1)):\n",
    "    if n%x==0:\n",
    "        flag=1\n",
    "        break\n",
    "        \n",
    "if flag:\n",
    "        print(\"not a prime no\")\n",
    "else:\n",
    "    print(\"is a prime no\")"
   ]
  },
  {
   "cell_type": "code",
   "execution_count": null,
   "id": "93405a83-f87a-4b8b-a773-0e333108d652",
   "metadata": {},
   "outputs": [],
   "source": []
  }
 ],
 "metadata": {
  "kernelspec": {
   "display_name": "Python 3 (ipykernel)",
   "language": "python",
   "name": "python3"
  },
  "language_info": {
   "codemirror_mode": {
    "name": "ipython",
    "version": 3
   },
   "file_extension": ".py",
   "mimetype": "text/x-python",
   "name": "python",
   "nbconvert_exporter": "python",
   "pygments_lexer": "ipython3",
   "version": "3.12.3"
  }
 },
 "nbformat": 4,
 "nbformat_minor": 5
}

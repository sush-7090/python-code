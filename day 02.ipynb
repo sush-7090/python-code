{
 "cells": [
  {
   "cell_type": "code",
   "execution_count": 2,
   "id": "d5202984-42c6-40db-8cc6-b3ffafd8fd73",
   "metadata": {},
   "outputs": [
    {
     "name": "stdin",
     "output_type": "stream",
     "text": [
      "enter the name sushma\n",
      "enter your age 40\n"
     ]
    },
    {
     "name": "stdout",
     "output_type": "stream",
     "text": [
      "sushma\n",
      "your elegible\n"
     ]
    }
   ],
   "source": [
    "name=input(\"enter the name\")\n",
    "age=int(input(\"enter your age\"))\n",
    "if age>=18:\n",
    "    print(name)\n",
    "    print(\"your elegible\")\n",
    "else:\n",
    "    print(name)\n",
    "    print(\"not elegible\")"
   ]
  },
  {
   "cell_type": "code",
   "execution_count": 3,
   "id": "88a7413f-656f-4dab-bdf4-1d32e666ccba",
   "metadata": {},
   "outputs": [
    {
     "name": "stdin",
     "output_type": "stream",
     "text": [
      "enter the no 2\n",
      "enter the no 4\n"
     ]
    },
    {
     "name": "stdout",
     "output_type": "stream",
     "text": [
      "b is greater\n"
     ]
    }
   ],
   "source": [
    "a=int(input(\"enter the no\"))\n",
    "b=int(input(\"enter the no\"))\n",
    "if a>b:\n",
    "    print(\"a is greater\")\n",
    "else:\n",
    "    print(\"b is greater\")\n",
    "    "
   ]
  },
  {
   "cell_type": "code",
   "execution_count": 7,
   "id": "32554094-418c-4711-8acb-508b2e19c025",
   "metadata": {},
   "outputs": [
    {
     "name": "stdin",
     "output_type": "stream",
     "text": [
      " 2\n",
      " 4\n",
      " 5\n"
     ]
    },
    {
     "name": "stdout",
     "output_type": "stream",
     "text": [
      "c is largest\n"
     ]
    }
   ],
   "source": [
    "a=int(input())\n",
    "b=int(input())\n",
    "c=int(input())\n",
    "if a>b:\n",
    "    if a>c:\n",
    "        print(\"a is largest\")\n",
    "    else:\n",
    "        print(\"c is largest\")\n",
    "else:\n",
    "    if b>c:\n",
    "        print(\"b is largest\")\n",
    "    else:\n",
    "        print(\"c is largest\")\n",
    "        "
   ]
  },
  {
   "cell_type": "code",
   "execution_count": 2,
   "id": "ec2af1b9-245d-4d43-b963-1927f235db66",
   "metadata": {},
   "outputs": [
    {
     "name": "stdin",
     "output_type": "stream",
     "text": [
      "enter the name ghf\n",
      "enter the marks 789\n"
     ]
    },
    {
     "name": "stdout",
     "output_type": "stream",
     "text": [
      "invalid choice\n"
     ]
    }
   ],
   "source": [
    "a=input(\"enter the name\")\n",
    "marks=int(input(\"enter the marks\"))\n",
    "if marks>=90 and marks<100:\n",
    "    print(\"grade=A+\")\n",
    "else:\n",
    "    if marks>=80 and marks<90:\n",
    "        print(\"grade=A\") \n",
    "    else:\n",
    "        if marks>=70 and marks<80:\n",
    "            print(\"grade=B+\")\n",
    "        else:\n",
    "            if marks>=60 and marks<70:\n",
    "                print(\"grade=B\")\n",
    "            else: \n",
    "                if marks>=50 and marks<60:\n",
    "                    print(\"grade=C+\")\n",
    "                else:\n",
    "                    if marks>=40 and marks<50:\n",
    "                        print(\"grade=c\")\n",
    "                    else:\n",
    "                        if marks>=30 and marks<40:\n",
    "                            print(\"grade=D\")\n",
    "                        else:\n",
    "                            if marks>=20 and marks<30:\n",
    "                                print(\"grade=F\")\n",
    "                            else:\n",
    "                                print(\"invalid choice\")\n",
    "                                \n",
    "                            \n",
    "                            \n",
    "                            \n",
    "                            \n",
    "                            \n",
    "                      \n",
    "\n"
   ]
  },
  {
   "cell_type": "code",
   "execution_count": 9,
   "id": "6021d5c2-565e-4696-854c-e70d19e976ab",
   "metadata": {},
   "outputs": [
    {
     "name": "stdin",
     "output_type": "stream",
     "text": [
      "enter the day number 13\n"
     ]
    },
    {
     "name": "stdout",
     "output_type": "stream",
     "text": [
      "teens\n"
     ]
    }
   ],
   "source": [
    "Day=int(input(\"enter the day number\"))\n",
    "match Day :\n",
    "      case 1:print(\"sunday\")\n",
    "      case 2:print(\"monday\")\n",
    "      case 3:print(\"tue\")\n",
    "      case 4:print(\"wed\")\n",
    "      case 5:print(\"thur\")\n",
    "      case 6:print(\"fri\")\n",
    "      case 7:print(\"sat\")\n",
    "      case _ if Day == 10:\n",
    "          print(\"ten\")\n",
    "      case _ if Day >=13 and Day<=19:\n",
    "          print(\"teens\")\n",
    "      case _ : print(\"invalid\")\n",
    "  \n"
   ]
  },
  {
   "cell_type": "code",
   "execution_count": 1,
   "id": "d3d5d764-5841-4148-bb4e-018db59b8fed",
   "metadata": {},
   "outputs": [
    {
     "name": "stdout",
     "output_type": "stream",
     "text": [
      "0\n",
      "1\n",
      "2\n",
      "3\n",
      "4\n",
      "5\n",
      "6\n",
      "7\n",
      "8\n",
      "9\n"
     ]
    }
   ],
   "source": [
    "for x in range(0,10):\n",
    "    print(x)"
   ]
  },
  {
   "cell_type": "code",
   "execution_count": 3,
   "id": "ed4b0a40-a3c4-426a-895f-dd0be1b32d61",
   "metadata": {},
   "outputs": [
    {
     "name": "stdout",
     "output_type": "stream",
     "text": [
      "0\n",
      "1\n",
      "2\n",
      "3\n",
      "4\n",
      "5\n",
      "6\n",
      "7\n",
      "8\n",
      "9\n",
      "0\n",
      "1\n",
      "2\n",
      "3\n",
      "4\n",
      "5\n",
      "6\n",
      "7\n",
      "8\n",
      "9\n"
     ]
    }
   ],
   "source": [
    "x=0\n",
    "while x<10:\n",
    "    print(x)\n",
    "    x=x+1\n",
    "\n",
    "for y in range(0,10):\n",
    "    print(y)\n",
    "    "
   ]
  },
  {
   "cell_type": "code",
   "execution_count": 6,
   "id": "ede5b53e-8da0-408c-acd3-2493c6d9b5b8",
   "metadata": {},
   "outputs": [
    {
     "name": "stdout",
     "output_type": "stream",
     "text": [
      "1 * \n",
      "2 * \n",
      "2 * \n",
      "3 * \n",
      "3 * \n",
      "3 * \n",
      "4 * \n",
      "4 * \n",
      "4 * \n",
      "4 * \n"
     ]
    }
   ],
   "source": [
    "rows=5\n",
    "for i in range(rows):\n",
    "    for j in range(i):\n",
    "        print(i,end=' ')\n",
    "        print('* ')"
   ]
  },
  {
   "cell_type": "code",
   "execution_count": 1,
   "id": "6c7a0164-b29f-470e-bb40-e01160f8e0e4",
   "metadata": {},
   "outputs": [
    {
     "ename": "SyntaxError",
     "evalue": "invalid syntax (3247645830.py, line 4)",
     "output_type": "error",
     "traceback": [
      "\u001b[1;36m  Cell \u001b[1;32mIn[1], line 4\u001b[1;36m\u001b[0m\n\u001b[1;33m    working statement\u001b[0m\n\u001b[1;37m            ^\u001b[0m\n\u001b[1;31mSyntaxError\u001b[0m\u001b[1;31m:\u001b[0m invalid syntax\n"
     ]
    }
   ],
   "source": [
    "initilization\n",
    "condition\n",
    "inc/dec\n",
    "working statement\n",
    "\n",
    "\n",
    "x=0 #initilization\n",
    "while x<10: #condition\n",
    "    print(X) #ws\n",
    "    x=x+1 #i\\d\n",
    "    \n",
    "\n",
    "\n",
    "    "
   ]
  },
  {
   "cell_type": "code",
   "execution_count": 3,
   "id": "10c24752-3afd-4cd1-844c-01f5ad6ce200",
   "metadata": {},
   "outputs": [
    {
     "name": "stdout",
     "output_type": "stream",
     "text": [
      "0\n",
      "1\n",
      "2\n",
      "3\n",
      "4\n",
      "5\n",
      "6\n",
      "7\n",
      "8\n",
      "9\n"
     ]
    }
   ],
   "source": [
    "x=0 #initilization\n",
    "while x<10: #condition\n",
    "    print(x) #ws\n",
    "    x=x+1 #i\\d\n",
    "    "
   ]
  },
  {
   "cell_type": "code",
   "execution_count": 3,
   "id": "e3a91720-87fb-4932-bf67-158ecb5881c8",
   "metadata": {},
   "outputs": [
    {
     "name": "stdout",
     "output_type": "stream",
     "text": [
      "0\n",
      "1\n",
      "2\n",
      "0 1\n",
      "0 2\n",
      "0 3\n",
      "0 4\n",
      "1 1\n",
      "1 2\n",
      "1 3\n",
      "1 4\n",
      "2 1\n",
      "2 2\n",
      "2 3\n",
      "2 4\n",
      "3 1\n",
      "3 2\n",
      "3 3\n",
      "3 4\n",
      "4 1\n",
      "4 2\n",
      "4 3\n",
      "4 4\n"
     ]
    }
   ],
   "source": [
    "x=0 #initilization\n",
    "while x<3: #condition\n",
    "    print(x) #ws\n",
    "    x=x+1 #i\\d\n",
    "\n",
    "\n",
    "\n",
    "for y in range(0,5):\n",
    "    for x in range(1,5):\n",
    "        print(y,x)"
   ]
  },
  {
   "cell_type": "code",
   "execution_count": 22,
   "id": "cd19d947-3cd4-4c32-a8c2-9e919e3893c3",
   "metadata": {},
   "outputs": [
    {
     "name": "stdout",
     "output_type": "stream",
     "text": [
      "* \n",
      "* * \n",
      "* * * \n",
      "* * * * \n",
      "* * * * * \n"
     ]
    }
   ],
   "source": [
    "for y in range(0,5):\n",
    "    for x in range(0,y+1):\n",
    "        print(\"*\",end=\" \")\n",
    "    print()"
   ]
  },
  {
   "cell_type": "code",
   "execution_count": 2,
   "id": "94d9cc3a-0b2e-465c-b408-c9958222be76",
   "metadata": {},
   "outputs": [
    {
     "name": "stdout",
     "output_type": "stream",
     "text": [
      "******\n",
      "******\n",
      "******\n",
      "******\n",
      "******\n"
     ]
    }
   ],
   "source": [
    "x=5\n",
    "for y in range(0,5):\n",
    "    for x in range(0,x+1):\n",
    "        print(\"*\" ,end=\"\")\n",
    "    print()"
   ]
  },
  {
   "cell_type": "code",
   "execution_count": 3,
   "id": "ae2e992b-237f-40b4-bb84-37adc0023c6d",
   "metadata": {},
   "outputs": [
    {
     "name": "stdout",
     "output_type": "stream",
     "text": [
      "* * * \n",
      "* * \n",
      "* \n",
      "\n",
      "\n"
     ]
    }
   ],
   "source": [
    "for x in range(0,5):\n",
    "    for y in range(0,y):\n",
    "        print(\"*\" ,end=\" \")\n",
    "    print()"
   ]
  },
  {
   "cell_type": "code",
   "execution_count": 9,
   "id": "84cbdf3c-c260-48aa-9b1d-07a7ab4e7053",
   "metadata": {},
   "outputs": [
    {
     "name": "stdin",
     "output_type": "stream",
     "text": [
      "enter the limit 5\n"
     ]
    },
    {
     "name": "stdout",
     "output_type": "stream",
     "text": [
      "0\n",
      "1\n",
      "2\n"
     ]
    }
   ],
   "source": [
    "n=int(input(\"enter the limit\"))\n",
    "fib=int(n-1)+int(n-2)\n",
    "for fib in range(0,n-2):\n",
    "    print(fib)"
   ]
  },
  {
   "cell_type": "code",
   "execution_count": 21,
   "id": "f15cac2c-888d-4ec3-9e09-f4cf7ece55a6",
   "metadata": {},
   "outputs": [
    {
     "name": "stdin",
     "output_type": "stream",
     "text": [
      "enter the length 5\n"
     ]
    },
    {
     "name": "stdout",
     "output_type": "stream",
     "text": [
      "0 1 1 2 3 "
     ]
    }
   ],
   "source": [
    "#fibonicc series without using function\n",
    "a=0\n",
    "b=1\n",
    "n=int(input(\"enter the length\"))\n",
    "print(a,b,end=\" \")\n",
    "for n in range(0,n-2):\n",
    "    c=a+b\n",
    "    print(c, end=\" \")\n",
    "    a=b\n",
    "    b=c\n",
    "    \n"
   ]
  },
  {
   "cell_type": "code",
   "execution_count": 8,
   "id": "4e1522c1-322c-4a23-b3d5-278fcc29e422",
   "metadata": {},
   "outputs": [
    {
     "name": "stdin",
     "output_type": "stream",
     "text": [
      " 3\n",
      " 4\n"
     ]
    },
    {
     "name": "stdout",
     "output_type": "stream",
     "text": [
      "7\n"
     ]
    }
   ],
   "source": [
    "def abcd(a,b):\n",
    "    c=a+b\n",
    "    print(c)\n",
    "    return\n",
    "\n",
    "A=int(input())\n",
    "B=int(input())\n",
    "#print(abcd(A,B))\n",
    "abcd(A,B)"
   ]
  },
  {
   "cell_type": "code",
   "execution_count": 10,
   "id": "32965585-0643-4d73-bf34-60d8d3e29e4b",
   "metadata": {},
   "outputs": [
    {
     "name": "stdin",
     "output_type": "stream",
     "text": [
      " 3\n",
      " 5\n"
     ]
    },
    {
     "name": "stdout",
     "output_type": "stream",
     "text": [
      "8\n"
     ]
    },
    {
     "ename": "TypeError",
     "evalue": "abcd() missing 1 required positional argument: 'b'",
     "output_type": "error",
     "traceback": [
      "\u001b[1;31m---------------------------------------------------------------------------\u001b[0m",
      "\u001b[1;31mTypeError\u001b[0m                                 Traceback (most recent call last)",
      "Cell \u001b[1;32mIn[10], line 10\u001b[0m\n\u001b[0;32m      8\u001b[0m \u001b[38;5;66;03m#print(abcd(A,B))\u001b[39;00m\n\u001b[0;32m      9\u001b[0m abcd(A,B)\n\u001b[1;32m---> 10\u001b[0m \u001b[43mabcd\u001b[49m\u001b[43m(\u001b[49m\u001b[43mA\u001b[49m\u001b[43m)\u001b[49m\n",
      "\u001b[1;31mTypeError\u001b[0m: abcd() missing 1 required positional argument: 'b'"
     ]
    }
   ],
   "source": [
    "def abcd(a,b):\n",
    "    c=a+b\n",
    "    print(c)\n",
    "    return\n",
    "\n",
    "A=int(input())\n",
    "B=int(input())\n",
    "#print(abcd(A,B))\n",
    "abcd(A,B)\n",
    "abcd(A)\n"
   ]
  },
  {
   "cell_type": "code",
   "execution_count": 6,
   "id": "6a1b0854-198c-4320-acca-d14ac1f22c17",
   "metadata": {},
   "outputs": [
    {
     "ename": "IndentationError",
     "evalue": "expected an indented block after 'if' statement on line 2 (3334960063.py, line 3)",
     "output_type": "error",
     "traceback": [
      "\u001b[1;36m  Cell \u001b[1;32mIn[6], line 3\u001b[1;36m\u001b[0m\n\u001b[1;33m    for i in range(2, num//2):\u001b[0m\n\u001b[1;37m    ^\u001b[0m\n\u001b[1;31mIndentationError\u001b[0m\u001b[1;31m:\u001b[0m expected an indented block after 'if' statement on line 2\n"
     ]
    }
   ],
   "source": [
    "num = 13\n",
    "if num > 1:\n",
    "for i in range(2, num//2):\n",
    "    \n",
    "    if (num % i) == 0:\n",
    "    \n",
    "        print(num, \"is not a prime number\")\n",
    "break\n",
    "else:\n",
    "print(num, \"is a prime number\")\n",
    "else:\n",
    "print(num, \"is not a prime number\")"
   ]
  },
  {
   "cell_type": "code",
   "execution_count": null,
   "id": "93b29ef2-fa0c-4f0a-82d8-d9083070479f",
   "metadata": {},
   "outputs": [],
   "source": [
    "num=int(input(enter the no))\n",
    "if num>1:"
   ]
  }
 ],
 "metadata": {
  "kernelspec": {
   "display_name": "Python 3 (ipykernel)",
   "language": "python",
   "name": "python3"
  },
  "language_info": {
   "codemirror_mode": {
    "name": "ipython",
    "version": 3
   },
   "file_extension": ".py",
   "mimetype": "text/x-python",
   "name": "python",
   "nbconvert_exporter": "python",
   "pygments_lexer": "ipython3",
   "version": "3.12.3"
  }
 },
 "nbformat": 4,
 "nbformat_minor": 5
}

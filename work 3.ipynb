{
 "cells": [
  {
   "cell_type": "code",
   "execution_count": 2,
   "id": "4f522215-a8da-48b4-8bf7-fbb6a9a982fc",
   "metadata": {},
   "outputs": [
    {
     "name": "stdin",
     "output_type": "stream",
     "text": [
      "enter the celsius temperature 35\n"
     ]
    },
    {
     "name": "stdout",
     "output_type": "stream",
     "text": [
      "the temperature in fahrenheit: 95.0\n"
     ]
    }
   ],
   "source": [
    "#Convert a temperature from Celsius to Fahrenheit.\n",
    "a=int(input(\"enter the celsius temperature\"))\n",
    "f=(a*9/5)+32\n",
    "print(\"the temperature in fahrenheit:\",f)"
   ]
  },
  {
   "cell_type": "code",
   "execution_count": 9,
   "id": "4ef2bb0e-a5ee-4cdb-94bd-a2dbf6eb2965",
   "metadata": {},
   "outputs": [
    {
     "name": "stdout",
     "output_type": "stream",
     "text": [
      "enter the second largest no: 4\n"
     ]
    }
   ],
   "source": [
    "#Find the second largest element in a list.\n",
    "L=[1,2,3,4,5,]\n",
    "print(\"enter the second largest no:\", L[-2])"
   ]
  },
  {
   "cell_type": "code",
   "execution_count": 2,
   "id": "776bb221-4f6e-42be-ace1-eb9fd467e71b",
   "metadata": {},
   "outputs": [
    {
     "name": "stdout",
     "output_type": "stream",
     "text": [
      "[1, 2, 3, 4, 1, 5, 4, 7, 8]\n"
     ]
    },
    {
     "name": "stdin",
     "output_type": "stream",
     "text": [
      "enter the element to check 1\n"
     ]
    },
    {
     "name": "stdout",
     "output_type": "stream",
     "text": [
      "1 has occurrences 2 times\n"
     ]
    }
   ],
   "source": [
    "#Count the occurrences of each element in a list.\n",
    "a=[1,2,3,4,1,5,4,7,8]\n",
    "print(a)\n",
    "n=int(input(\"enter the element to check\"))\n",
    "print(n,\"has occurrences\", a.count(n),\"times\")\n",
    "\n",
    "\n"
   ]
  },
  {
   "cell_type": "code",
   "execution_count": 3,
   "id": "2164b73d-9932-43e0-9290-ea6a35fa2ea4",
   "metadata": {},
   "outputs": [
    {
     "name": "stdout",
     "output_type": "stream",
     "text": [
      "sum of  even number= 20\n"
     ]
    }
   ],
   "source": [
    "#Find the sum of all even numbers in a list.\n",
    "a=[2,3,4,5,6,7,8,9]\n",
    "sum=0\n",
    "for i in a:\n",
    "    if i%2==0:\n",
    "        sum+=i\n",
    "print(\"sum of  even number=\",sum)"
   ]
  },
  {
   "cell_type": "code",
   "execution_count": 6,
   "id": "fea88854-41af-4aa3-b8f9-8eeac8b4165b",
   "metadata": {},
   "outputs": [
    {
     "name": "stdin",
     "output_type": "stream",
     "text": [
      "enter the sentence  apple was eatten by me\n"
     ]
    },
    {
     "name": "stdout",
     "output_type": "stream",
     "text": [
      "me by eatten was apple\n"
     ]
    }
   ],
   "source": [
    "#Reverse the words in a given sentence.\n",
    "string = input(\"enter the sentence \")\n",
    "\n",
    "s = string.split()[::-1]\n",
    "\n",
    "l = []\n",
    "\n",
    "for i in s:\n",
    "\n",
    "\n",
    "    l.append(i)\n",
    "\n",
    "print(\" \".join(l))"
   ]
  },
  {
   "cell_type": "code",
   "execution_count": 8,
   "id": "8bfc275a-ea09-4de1-bc06-2432d156a35a",
   "metadata": {},
   "outputs": [
    {
     "name": "stdin",
     "output_type": "stream",
     "text": [
      "Enter string: sushma\n"
     ]
    },
    {
     "name": "stdout",
     "output_type": "stream",
     "text": [
      "Number of vowels are:\n",
      "2\n"
     ]
    }
   ],
   "source": [
    "#Count the number of vowels in a string\n",
    "string=input(\"Enter string:\")\n",
    "vowels=0\n",
    "for i in string:\n",
    "      if(i=='a' or i=='e' or i=='i' or i=='o' or i=='u' or i=='A' or i=='E' or i=='I' or i=='O' or i=='U'):\n",
    "            vowels=vowels+1\n",
    "print(\"Number of vowels are:\")\n",
    "print(vowels)\n"
   ]
  },
  {
   "cell_type": "code",
   "execution_count": null,
   "id": "4fa4307d-7aee-4094-8cfb-f1d3fc523d6a",
   "metadata": {},
   "outputs": [],
   "source": []
  }
 ],
 "metadata": {
  "kernelspec": {
   "display_name": "Python 3 (ipykernel)",
   "language": "python",
   "name": "python3"
  },
  "language_info": {
   "codemirror_mode": {
    "name": "ipython",
    "version": 3
   },
   "file_extension": ".py",
   "mimetype": "text/x-python",
   "name": "python",
   "nbconvert_exporter": "python",
   "pygments_lexer": "ipython3",
   "version": "3.12.3"
  }
 },
 "nbformat": 4,
 "nbformat_minor": 5
}

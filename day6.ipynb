{
 "cells": [
  {
   "cell_type": "code",
   "execution_count": 21,
   "id": "edd98cac-90cf-4da6-904d-26f8c1d4695f",
   "metadata": {},
   "outputs": [
    {
     "name": "stdin",
     "output_type": "stream",
     "text": [
      "enter the no of rows 4\n"
     ]
    },
    {
     "name": "stdout",
     "output_type": "stream",
     "text": [
      "1 \n",
      "1 2 \n",
      "1 2 3 \n",
      "1 2 3 4 \n"
     ]
    }
   ],
   "source": [
    "rows=int(input(\"enter the no of rows\"))\n",
    "for i in range( 1 ,rows+1):\n",
    "    \n",
    "    for j in range(1,i+1):\n",
    "        print(j,end=\" \")\n",
    "    print()"
   ]
  },
  {
   "cell_type": "code",
   "execution_count": 7,
   "id": "ae7ed121-a4b3-42f1-bd82-888640f59eda",
   "metadata": {},
   "outputs": [
    {
     "name": "stdin",
     "output_type": "stream",
     "text": [
      "enter the no of rows 4\n"
     ]
    },
    {
     "name": "stdout",
     "output_type": "stream",
     "text": [
      "* * * \n",
      "* * \n",
      "* \n",
      "\n"
     ]
    }
   ],
   "source": [
    "rows=int(input(\"enter the no of rows\"))\n",
    "for i in range(rows):\n",
    "    for j in range(i,rows):\n",
    "        \n",
    "        print(\"*\",end=\" \")\n",
    "    print()"
   ]
  },
  {
   "cell_type": "code",
   "execution_count": 22,
   "id": "b1f5f166-6f11-4e43-be58-e6aaf81bd122",
   "metadata": {},
   "outputs": [
    {
     "name": "stdin",
     "output_type": "stream",
     "text": [
      "enter the no of rows 4\n"
     ]
    },
    {
     "name": "stdout",
     "output_type": "stream",
     "text": [
      "1 2 3 4 \n",
      "1 2 3 \n",
      "1 2 \n"
     ]
    }
   ],
   "source": [
    "row=int(input(\"enter the no of rows\"))\n",
    "for i in range(rows,1,-1):\n",
    "    for j in range(1,i+1):\n",
    "        print(j,end=\" \")\n",
    "    print()"
   ]
  },
  {
   "cell_type": "code",
   "execution_count": 7,
   "id": "7409aa1c-4eb1-401b-a539-614682148ea4",
   "metadata": {},
   "outputs": [],
   "source": [
    "#leetcode problem01\n",
    "nums=[2,7,3,4]\n",
    "target=9\n",
    "class solution:\n",
    "    def twosum(self,nums:list[int],target:int)->list[int]:\n",
    "        for i in range(0,len(num)):\n",
    "            for j in range(0,len(nums)):\n",
    "                if i==j:\n",
    "                    continue\n",
    "                if nums[i]+nums[j]==target:\n",
    "                    return[i,j]"
   ]
  },
  {
   "cell_type": "code",
   "execution_count": 6,
   "id": "d991c000-25de-4178-a242-59c0cfcca0dd",
   "metadata": {},
   "outputs": [
    {
     "ename": "SyntaxError",
     "evalue": "incomplete input (1280318787.py, line 4)",
     "output_type": "error",
     "traceback": [
      "\u001b[1;36m  Cell \u001b[1;32mIn[6], line 4\u001b[1;36m\u001b[0m\n\u001b[1;33m    \u001b[0m\n\u001b[1;37m    ^\u001b[0m\n\u001b[1;31mSyntaxError\u001b[0m\u001b[1;31m:\u001b[0m incomplete input\n"
     ]
    }
   ],
   "source": [
    "#leetcode problem07\n",
    "class solution:\n",
    "    def reverse(self,x: int)->int:\n",
    "        "
   ]
  },
  {
   "cell_type": "code",
   "execution_count": null,
   "id": "f9b62677-b3b8-4508-ab63-910418f8aef4",
   "metadata": {},
   "outputs": [],
   "source": [
    "#leetcode problem41\n",
    "\n",
    "class solutiton:\n",
    "    def firstmissing positive integer :\n",
    "    var=1\n",
    "    nums.sort()\n",
    "    for i in nums:\n",
    "        if i=var:\n",
    "        var=var+1\n",
    "        return var"
   ]
  },
  {
   "cell_type": "code",
   "execution_count": null,
   "id": "f373b007-9ab7-43a2-95bb-edf5d41c3f98",
   "metadata": {},
   "outputs": [],
   "source": []
  }
 ],
 "metadata": {
  "kernelspec": {
   "display_name": "Python 3 (ipykernel)",
   "language": "python",
   "name": "python3"
  },
  "language_info": {
   "codemirror_mode": {
    "name": "ipython",
    "version": 3
   },
   "file_extension": ".py",
   "mimetype": "text/x-python",
   "name": "python",
   "nbconvert_exporter": "python",
   "pygments_lexer": "ipython3",
   "version": "3.12.3"
  }
 },
 "nbformat": 4,
 "nbformat_minor": 5
}
